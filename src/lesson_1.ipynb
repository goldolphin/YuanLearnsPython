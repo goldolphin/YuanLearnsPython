{
 "cells": [
  {
   "cell_type": "markdown",
   "id": "f98be68f-84c8-4b95-88e3-7ca1facde80d",
   "metadata": {},
   "source": [
    "# 多样的任务"
   ]
  },
  {
   "cell_type": "markdown",
   "id": "987d8aed-cbe2-4191-94f7-1174a846c622",
   "metadata": {},
   "source": [
    "1. 简单计算"
   ]
  },
  {
   "cell_type": "code",
   "execution_count": 7,
   "id": "46788e27-5138-457c-aa13-c91489bef88d",
   "metadata": {
    "tags": []
   },
   "outputs": [
    {
     "data": {
      "text/plain": [
       "84"
      ]
     },
     "execution_count": 7,
     "metadata": {},
     "output_type": "execute_result"
    }
   ],
   "source": [
    "a = 10\n",
    "b = 8\n",
    "c = 2\n",
    "c + (a * b + c)"
   ]
  },
  {
   "cell_type": "markdown",
   "id": "086a3855-2e7f-4e2d-ba49-0fff8f6ccb87",
   "metadata": {
    "tags": []
   },
   "source": [
    "2. 循环打印"
   ]
  },
  {
   "cell_type": "code",
   "execution_count": 11,
   "id": "04808d31-4976-4465-8ac7-51414750f57f",
   "metadata": {
    "tags": []
   },
   "outputs": [
    {
     "name": "stdout",
     "output_type": "stream",
     "text": [
      "* * * * * * * * * * \n",
      "* * * * * * * * * \n",
      "* * * * * * * * \n",
      "* * * * * * * \n",
      "* * * * * * \n",
      "* * * * * \n",
      "* * * * \n",
      "* * * \n",
      "* * \n",
      "* \n"
     ]
    }
   ],
   "source": [
    "for i in range(10):\n",
    "    for j in range(10-i):\n",
    "        print(\"* \", end='')\n",
    "    print()"
   ]
  },
  {
   "cell_type": "markdown",
   "id": "303b1d98-495c-4543-b1f1-6624f6319103",
   "metadata": {},
   "source": [
    "3. 数学曲线"
   ]
  },
  {
   "cell_type": "code",
   "execution_count": 16,
   "id": "ef1ebd02-c9df-41e4-88e3-f737ffea8c40",
   "metadata": {
    "tags": []
   },
   "outputs": [
    {
     "name": "stdout",
     "output_type": "stream",
     "text": [
      "x = [1 2 3 4 5 6 7 8 9]\n",
      "y = [ 1  4  9 16 25 36 49 64 81]\n"
     ]
    },
    {
     "data": {
      "text/plain": [
       "[<matplotlib.lines.Line2D at 0x7f791d674be0>]"
      ]
     },
     "execution_count": 16,
     "metadata": {},
     "output_type": "execute_result"
    },
    {
     "data": {
      "image/png": "[encoded data removed]",
      "text/plain": [
       "<Figure size 640x480 with 1 Axes>"
      ]
     },
     "metadata": {},
     "output_type": "display_data"
    }
   ],
   "source": [
    "import matplotlib.pyplot as plt\n",
    "import numpy as np\n",
    "\n",
    "x = np.arange(1, 10)\n",
    "print('x = {}'.format(x))\n",
    "y = x * x\n",
    "print('y = {}'.format(y))\n",
    "\n",
    "plt.plot(x ,y, marker='.')"
   ]
  },
  {
   "cell_type": "markdown",
   "id": "5b28bf2a-bd0f-4c02-9f64-2e945889dc28",
   "metadata": {
    "tags": []
   },
   "source": [
    "4. 小海龟"
   ]
  },
  {
   "cell_type": "code",
   "execution_count": 18,
   "id": "6e0b8ea5-033d-4962-bc0f-e041b7da926f",
   "metadata": {
    "tags": []
   },
   "outputs": [
    {
     "name": "stdout",
     "output_type": "stream",
     "text": [
      "Requirement already satisfied: colabturtle in /usr/local/python/3.10.4/lib/python3.10/site-packages (2.1.0)\n",
      "\n",
      "\u001b[1m[\u001b[0m\u001b[34;49mnotice\u001b[0m\u001b[1;39;49m]\u001b[0m\u001b[39;49m A new release of pip is available: \u001b[0m\u001b[31;49m23.1.1\u001b[0m\u001b[39;49m -> \u001b[0m\u001b[32;49m23.1.2\u001b[0m\n",
      "\u001b[1m[\u001b[0m\u001b[34;49mnotice\u001b[0m\u001b[1;39;49m]\u001b[0m\u001b[39;49m To update, run: \u001b[0m\u001b[32;49mpython3 -m pip install --upgrade pip\u001b[0m\n",
      "Note: you may need to restart the kernel to use updated packages.\n"
     ]
    },
    {
     "data": {
      "text/html": [
       "\n",
       "      <svg width=\"800\" height=\"500\">\n",
       "        <rect width=\"100%\" height=\"100%\" fill=\"#efefef\"/>\n",
       "        <line x1=\"100\" y1=\"250\" x2=\"100.0\" y2=\"150.0\" stroke-linecap=\"round\" style=\"stroke:mediumblue;stroke-width:4\"/><line x1=\"100.0\" y1=\"150.0\" x2=\"60.0\" y2=\"150.0\" stroke-linecap=\"round\" style=\"stroke:mediumblue;stroke-width:4\"/><line x1=\"60.0\" y1=\"150.0\" x2=\"140.0\" y2=\"150.0\" stroke-linecap=\"round\" style=\"stroke:mediumblue;stroke-width:4\"/><line x1=\"190.0\" y1=\"210.0\" x2=\"190.0\" y2=\"193.0\" stroke-linecap=\"round\" style=\"stroke:mediumblue;stroke-width:4\"/><line x1=\"190.0\" y1=\"193.0\" x2=\"195.814\" y2=\"177.025\" stroke-linecap=\"round\" style=\"stroke:mediumblue;stroke-width:4\"/><line x1=\"195.814\" y1=\"177.025\" x2=\"206.741\" y2=\"164.002\" stroke-linecap=\"round\" style=\"stroke:mediumblue;stroke-width:4\"/><line x1=\"206.741\" y1=\"164.002\" x2=\"221.463\" y2=\"155.502\" stroke-linecap=\"round\" style=\"stroke:mediumblue;stroke-width:4\"/><line x1=\"221.463\" y1=\"155.502\" x2=\"238.205\" y2=\"152.55\" stroke-linecap=\"round\" style=\"stroke:mediumblue;stroke-width:4\"/><line x1=\"238.205\" y1=\"152.55\" x2=\"254.947\" y2=\"155.502\" stroke-linecap=\"round\" style=\"stroke:mediumblue;stroke-width:4\"/><line x1=\"254.947\" y1=\"155.502\" x2=\"269.669\" y2=\"164.002\" stroke-linecap=\"round\" style=\"stroke:mediumblue;stroke-width:4\"/><line x1=\"269.669\" y1=\"164.002\" x2=\"280.596\" y2=\"177.025\" stroke-linecap=\"round\" style=\"stroke:mediumblue;stroke-width:4\"/><line x1=\"280.596\" y1=\"177.025\" x2=\"286.41\" y2=\"193.0\" stroke-linecap=\"round\" style=\"stroke:mediumblue;stroke-width:4\"/><line x1=\"286.41\" y1=\"193.0\" x2=\"286.41\" y2=\"210.0\" stroke-linecap=\"round\" style=\"stroke:mediumblue;stroke-width:4\"/><line x1=\"286.41\" y1=\"210.0\" x2=\"280.596\" y2=\"225.975\" stroke-linecap=\"round\" style=\"stroke:mediumblue;stroke-width:4\"/><line x1=\"280.596\" y1=\"225.975\" x2=\"269.669\" y2=\"238.998\" stroke-linecap=\"round\" style=\"stroke:mediumblue;stroke-width:4\"/><line x1=\"269.669\" y1=\"238.998\" x2=\"254.947\" y2=\"247.498\" stroke-linecap=\"round\" style=\"stroke:mediumblue;stroke-width:4\"/><line x1=\"254.947\" y1=\"247.498\" x2=\"238.205\" y2=\"250.45\" stroke-linecap=\"round\" style=\"stroke:mediumblue;stroke-width:4\"/><line x1=\"238.205\" y1=\"250.45\" x2=\"221.463\" y2=\"247.498\" stroke-linecap=\"round\" style=\"stroke:mediumblue;stroke-width:4\"/><line x1=\"221.463\" y1=\"247.498\" x2=\"206.741\" y2=\"238.998\" stroke-linecap=\"round\" style=\"stroke:mediumblue;stroke-width:4\"/><line x1=\"206.741\" y1=\"238.998\" x2=\"195.814\" y2=\"225.975\" stroke-linecap=\"round\" style=\"stroke:mediumblue;stroke-width:4\"/><line x1=\"195.814\" y1=\"225.975\" x2=\"190.0\" y2=\"210.0\" stroke-linecap=\"round\" style=\"stroke:mediumblue;stroke-width:4\"/><line x1=\"350.0\" y1=\"150.0\" x2=\"350.0\" y2=\"250.0\" stroke-linecap=\"round\" style=\"stroke:rgb(230,90,120);stroke-width:4\"/><line x1=\"350.0\" y1=\"250.0\" x2=\"430.0\" y2=\"250.0\" stroke-linecap=\"round\" style=\"stroke:rgb(230,90,120);stroke-width:4\"/><line x1=\"480.0\" y1=\"210.0\" x2=\"480.0\" y2=\"193.0\" stroke-linecap=\"round\" style=\"stroke:rgb(230,90,120);stroke-width:4\"/><line x1=\"480.0\" y1=\"193.0\" x2=\"485.814\" y2=\"177.025\" stroke-linecap=\"round\" style=\"stroke:rgb(230,90,120);stroke-width:4\"/><line x1=\"485.814\" y1=\"177.025\" x2=\"496.741\" y2=\"164.002\" stroke-linecap=\"round\" style=\"stroke:rgb(230,90,120);stroke-width:4\"/><line x1=\"496.741\" y1=\"164.002\" x2=\"511.463\" y2=\"155.502\" stroke-linecap=\"round\" style=\"stroke:rgb(230,90,120);stroke-width:4\"/><line x1=\"511.463\" y1=\"155.502\" x2=\"528.205\" y2=\"152.55\" stroke-linecap=\"round\" style=\"stroke:rgb(230,90,120);stroke-width:4\"/><line x1=\"528.205\" y1=\"152.55\" x2=\"511.463\" y2=\"155.502\" stroke-linecap=\"round\" style=\"stroke:rgb(230,90,120);stroke-width:4\"/><line x1=\"511.463\" y1=\"155.502\" x2=\"496.741\" y2=\"164.002\" stroke-linecap=\"round\" style=\"stroke:rgb(230,90,120);stroke-width:4\"/><line x1=\"496.741\" y1=\"164.002\" x2=\"485.814\" y2=\"177.025\" stroke-linecap=\"round\" style=\"stroke:rgb(230,90,120);stroke-width:4\"/><line x1=\"485.814\" y1=\"177.025\" x2=\"480.0\" y2=\"193.0\" stroke-linecap=\"round\" style=\"stroke:rgb(230,90,120);stroke-width:4\"/><line x1=\"480.0\" y1=\"193.0\" x2=\"480.0\" y2=\"210.0\" stroke-linecap=\"round\" style=\"stroke:rgb(230,90,120);stroke-width:4\"/><line x1=\"480.0\" y1=\"210.0\" x2=\"485.814\" y2=\"225.975\" stroke-linecap=\"round\" style=\"stroke:rgb(230,90,120);stroke-width:4\"/><line x1=\"485.814\" y1=\"225.975\" x2=\"496.741\" y2=\"238.998\" stroke-linecap=\"round\" style=\"stroke:rgb(230,90,120);stroke-width:4\"/><line x1=\"496.741\" y1=\"238.998\" x2=\"511.463\" y2=\"247.498\" stroke-linecap=\"round\" style=\"stroke:rgb(230,90,120);stroke-width:4\"/><line x1=\"511.463\" y1=\"247.498\" x2=\"528.205\" y2=\"250.45\" stroke-linecap=\"round\" style=\"stroke:rgb(230,90,120);stroke-width:4\"/><line x1=\"528.205\" y1=\"250.45\" x2=\"544.947\" y2=\"247.498\" stroke-linecap=\"round\" style=\"stroke:rgb(230,90,120);stroke-width:4\"/><line x1=\"544.947\" y1=\"247.498\" x2=\"559.669\" y2=\"238.998\" stroke-linecap=\"round\" style=\"stroke:rgb(230,90,120);stroke-width:4\"/><line x1=\"559.669\" y1=\"238.998\" x2=\"570.596\" y2=\"225.975\" stroke-linecap=\"round\" style=\"stroke:rgb(230,90,120);stroke-width:4\"/><line x1=\"570.596\" y1=\"225.975\" x2=\"576.41\" y2=\"210.0\" stroke-linecap=\"round\" style=\"stroke:rgb(230,90,120);stroke-width:4\"/><line x1=\"576.41\" y1=\"210.0\" x2=\"526.41\" y2=\"210.0\" stroke-linecap=\"round\" style=\"stroke:rgb(230,90,120);stroke-width:4\"/><line x1=\"626.41\" y1=\"250.0\" x2=\"670.785\" y2=\"154.838\" stroke-linecap=\"round\" style=\"stroke:rgb(230,90,120);stroke-width:4\"/><line x1=\"670.785\" y1=\"154.838\" x2=\"715.16\" y2=\"250.0\" stroke-linecap=\"round\" style=\"stroke:rgb(230,90,120);stroke-width:4\"/><line x1=\"715.16\" y1=\"250.0\" x2=\"696.142\" y2=\"209.216\" stroke-linecap=\"round\" style=\"stroke:rgb(230,90,120);stroke-width:4\"/><line x1=\"696.142\" y1=\"209.216\" x2=\"646.142\" y2=\"209.216\" stroke-linecap=\"round\" style=\"stroke:rgb(230,90,120);stroke-width:4\"/><line x1=\"716.142\" y1=\"309.216\" x2=\"66.142\" y2=\"309.216\" stroke-linecap=\"round\" style=\"stroke:black;stroke-width:7\"/><line x1=\"66.142\" y1=\"309.216\" x2=\"73.142\" y2=\"309.216\" stroke-linecap=\"round\" style=\"stroke:black;stroke-width:7\"/><line x1=\"73.142\" y1=\"309.216\" x2=\"80.142\" y2=\"309.24\" stroke-linecap=\"round\" style=\"stroke:black;stroke-width:7\"/><line x1=\"80.142\" y1=\"309.24\" x2=\"87.142\" y2=\"309.289\" stroke-linecap=\"round\" style=\"stroke:black;stroke-width:7\"/><line x1=\"87.142\" y1=\"309.289\" x2=\"94.142\" y2=\"309.362\" stroke-linecap=\"round\" style=\"stroke:black;stroke-width:7\"/><line x1=\"94.142\" y1=\"309.362\" x2=\"101.141\" y2=\"309.46\" stroke-linecap=\"round\" style=\"stroke:black;stroke-width:7\"/><line x1=\"101.141\" y1=\"309.46\" x2=\"108.14\" y2=\"309.582\" stroke-linecap=\"round\" style=\"stroke:black;stroke-width:7\"/><line x1=\"108.14\" y1=\"309.582\" x2=\"115.138\" y2=\"309.729\" stroke-linecap=\"round\" style=\"stroke:black;stroke-width:7\"/><line x1=\"115.138\" y1=\"309.729\" x2=\"122.136\" y2=\"309.9\" stroke-linecap=\"round\" style=\"stroke:black;stroke-width:7\"/><line x1=\"122.136\" y1=\"309.9\" x2=\"129.133\" y2=\"310.095\" stroke-linecap=\"round\" style=\"stroke:black;stroke-width:7\"/><line x1=\"129.133\" y1=\"310.095\" x2=\"136.13\" y2=\"310.315\" stroke-linecap=\"round\" style=\"stroke:black;stroke-width:7\"/><line x1=\"136.13\" y1=\"310.315\" x2=\"143.126\" y2=\"310.559\" stroke-linecap=\"round\" style=\"stroke:black;stroke-width:7\"/><line x1=\"143.126\" y1=\"310.559\" x2=\"150.121\" y2=\"310.828\" stroke-linecap=\"round\" style=\"stroke:black;stroke-width:7\"/><line x1=\"150.121\" y1=\"310.828\" x2=\"157.115\" y2=\"311.121\" stroke-linecap=\"round\" style=\"stroke:black;stroke-width:7\"/><line x1=\"157.115\" y1=\"311.121\" x2=\"164.108\" y2=\"311.439\" stroke-linecap=\"round\" style=\"stroke:black;stroke-width:7\"/><line x1=\"164.108\" y1=\"311.439\" x2=\"171.1\" y2=\"311.781\" stroke-linecap=\"round\" style=\"stroke:black;stroke-width:7\"/><line x1=\"171.1\" y1=\"311.781\" x2=\"178.09\" y2=\"312.147\" stroke-linecap=\"round\" style=\"stroke:black;stroke-width:7\"/><line x1=\"178.09\" y1=\"312.147\" x2=\"185.079\" y2=\"312.538\" stroke-linecap=\"round\" style=\"stroke:black;stroke-width:7\"/><line x1=\"185.079\" y1=\"312.538\" x2=\"192.067\" y2=\"312.953\" stroke-linecap=\"round\" style=\"stroke:black;stroke-width:7\"/><line x1=\"192.067\" y1=\"312.953\" x2=\"199.053\" y2=\"313.393\" stroke-linecap=\"round\" style=\"stroke:black;stroke-width:7\"/><line x1=\"199.053\" y1=\"313.393\" x2=\"206.038\" y2=\"313.857\" stroke-linecap=\"round\" style=\"stroke:black;stroke-width:7\"/><line x1=\"206.038\" y1=\"313.857\" x2=\"213.021\" y2=\"314.345\" stroke-linecap=\"round\" style=\"stroke:black;stroke-width:7\"/><line x1=\"213.021\" y1=\"314.345\" x2=\"220.002\" y2=\"314.858\" stroke-linecap=\"round\" style=\"stroke:black;stroke-width:7\"/><line x1=\"220.002\" y1=\"314.858\" x2=\"226.981\" y2=\"315.395\" stroke-linecap=\"round\" style=\"stroke:black;stroke-width:7\"/><line x1=\"226.981\" y1=\"315.395\" x2=\"233.958\" y2=\"315.956\" stroke-linecap=\"round\" style=\"stroke:black;stroke-width:7\"/><line x1=\"233.958\" y1=\"315.956\" x2=\"240.933\" y2=\"316.542\" stroke-linecap=\"round\" style=\"stroke:black;stroke-width:7\"/><line x1=\"240.933\" y1=\"316.542\" x2=\"247.906\" y2=\"317.152\" stroke-linecap=\"round\" style=\"stroke:black;stroke-width:7\"/><line x1=\"247.906\" y1=\"317.152\" x2=\"254.877\" y2=\"317.786\" stroke-linecap=\"round\" style=\"stroke:black;stroke-width:7\"/><line x1=\"254.877\" y1=\"317.786\" x2=\"261.846\" y2=\"318.445\" stroke-linecap=\"round\" style=\"stroke:black;stroke-width:7\"/><line x1=\"261.846\" y1=\"318.445\" x2=\"268.813\" y2=\"319.128\" stroke-linecap=\"round\" style=\"stroke:black;stroke-width:7\"/><line x1=\"268.813\" y1=\"319.128\" x2=\"275.777\" y2=\"319.835\" stroke-linecap=\"round\" style=\"stroke:black;stroke-width:7\"/><line x1=\"275.777\" y1=\"319.835\" x2=\"282.739\" y2=\"320.567\" stroke-linecap=\"round\" style=\"stroke:black;stroke-width:7\"/><line x1=\"282.739\" y1=\"320.567\" x2=\"289.698\" y2=\"321.323\" stroke-linecap=\"round\" style=\"stroke:black;stroke-width:7\"/><line x1=\"289.698\" y1=\"321.323\" x2=\"296.654\" y2=\"322.103\" stroke-linecap=\"round\" style=\"stroke:black;stroke-width:7\"/><line x1=\"296.654\" y1=\"322.103\" x2=\"303.608\" y2=\"322.908\" stroke-linecap=\"round\" style=\"stroke:black;stroke-width:7\"/><line x1=\"303.608\" y1=\"322.908\" x2=\"310.559\" y2=\"323.737\" stroke-linecap=\"round\" style=\"stroke:black;stroke-width:7\"/><line x1=\"310.559\" y1=\"323.737\" x2=\"317.507\" y2=\"324.59\" stroke-linecap=\"round\" style=\"stroke:black;stroke-width:7\"/><line x1=\"317.507\" y1=\"324.59\" x2=\"324.452\" y2=\"325.467\" stroke-linecap=\"round\" style=\"stroke:black;stroke-width:7\"/><line x1=\"324.452\" y1=\"325.467\" x2=\"331.394\" y2=\"326.369\" stroke-linecap=\"round\" style=\"stroke:black;stroke-width:7\"/><line x1=\"331.394\" y1=\"326.369\" x2=\"338.333\" y2=\"327.295\" stroke-linecap=\"round\" style=\"stroke:black;stroke-width:7\"/><line x1=\"338.333\" y1=\"327.295\" x2=\"345.268\" y2=\"328.245\" stroke-linecap=\"round\" style=\"stroke:black;stroke-width:7\"/><line x1=\"345.268\" y1=\"328.245\" x2=\"352.2\" y2=\"329.219\" stroke-linecap=\"round\" style=\"stroke:black;stroke-width:7\"/><line x1=\"352.2\" y1=\"329.219\" x2=\"359.128\" y2=\"330.217\" stroke-linecap=\"round\" style=\"stroke:black;stroke-width:7\"/><line x1=\"359.128\" y1=\"330.217\" x2=\"366.053\" y2=\"331.24\" stroke-linecap=\"round\" style=\"stroke:black;stroke-width:7\"/><line x1=\"366.053\" y1=\"331.24\" x2=\"372.974\" y2=\"332.287\" stroke-linecap=\"round\" style=\"stroke:black;stroke-width:7\"/><line x1=\"372.974\" y1=\"332.287\" x2=\"379.892\" y2=\"333.358\" stroke-linecap=\"round\" style=\"stroke:black;stroke-width:7\"/><line x1=\"379.892\" y1=\"333.358\" x2=\"386.806\" y2=\"334.453\" stroke-linecap=\"round\" style=\"stroke:black;stroke-width:7\"/><line x1=\"386.806\" y1=\"334.453\" x2=\"393.716\" y2=\"335.572\" stroke-linecap=\"round\" style=\"stroke:black;stroke-width:7\"/><line x1=\"393.716\" y1=\"335.572\" x2=\"400.622\" y2=\"336.715\" stroke-linecap=\"round\" style=\"stroke:black;stroke-width:7\"/><line x1=\"400.622\" y1=\"336.715\" x2=\"407.524\" y2=\"337.882\" stroke-linecap=\"round\" style=\"stroke:black;stroke-width:7\"/><line x1=\"407.524\" y1=\"337.882\" x2=\"414.422\" y2=\"339.073\" stroke-linecap=\"round\" style=\"stroke:black;stroke-width:7\"/><line x1=\"414.422\" y1=\"339.073\" x2=\"421.316\" y2=\"340.289\" stroke-linecap=\"round\" style=\"stroke:black;stroke-width:7\"/><line x1=\"421.316\" y1=\"340.289\" x2=\"428.205\" y2=\"341.529\" stroke-linecap=\"round\" style=\"stroke:black;stroke-width:7\"/><line x1=\"428.205\" y1=\"341.529\" x2=\"435.09\" y2=\"342.793\" stroke-linecap=\"round\" style=\"stroke:black;stroke-width:7\"/><line x1=\"435.09\" y1=\"342.793\" x2=\"441.971\" y2=\"344.081\" stroke-linecap=\"round\" style=\"stroke:black;stroke-width:7\"/><line x1=\"441.971\" y1=\"344.081\" x2=\"448.847\" y2=\"345.393\" stroke-linecap=\"round\" style=\"stroke:black;stroke-width:7\"/><line x1=\"448.847\" y1=\"345.393\" x2=\"455.718\" y2=\"346.729\" stroke-linecap=\"round\" style=\"stroke:black;stroke-width:7\"/><line x1=\"455.718\" y1=\"346.729\" x2=\"462.585\" y2=\"348.089\" stroke-linecap=\"round\" style=\"stroke:black;stroke-width:7\"/><line x1=\"462.585\" y1=\"348.089\" x2=\"469.447\" y2=\"349.473\" stroke-linecap=\"round\" style=\"stroke:black;stroke-width:7\"/><line x1=\"469.447\" y1=\"349.473\" x2=\"476.304\" y2=\"350.881\" stroke-linecap=\"round\" style=\"stroke:black;stroke-width:7\"/><line x1=\"476.304\" y1=\"350.881\" x2=\"483.156\" y2=\"352.312\" stroke-linecap=\"round\" style=\"stroke:black;stroke-width:7\"/><line x1=\"483.156\" y1=\"352.312\" x2=\"490.003\" y2=\"353.767\" stroke-linecap=\"round\" style=\"stroke:black;stroke-width:7\"/><line x1=\"490.003\" y1=\"353.767\" x2=\"496.845\" y2=\"355.246\" stroke-linecap=\"round\" style=\"stroke:black;stroke-width:7\"/><line x1=\"496.845\" y1=\"355.246\" x2=\"503.682\" y2=\"356.749\" stroke-linecap=\"round\" style=\"stroke:black;stroke-width:7\"/><line x1=\"503.682\" y1=\"356.749\" x2=\"510.513\" y2=\"358.276\" stroke-linecap=\"round\" style=\"stroke:black;stroke-width:7\"/><line x1=\"510.513\" y1=\"358.276\" x2=\"517.339\" y2=\"359.827\" stroke-linecap=\"round\" style=\"stroke:black;stroke-width:7\"/><line x1=\"517.339\" y1=\"359.827\" x2=\"524.16\" y2=\"361.402\" stroke-linecap=\"round\" style=\"stroke:black;stroke-width:7\"/><line x1=\"524.16\" y1=\"361.402\" x2=\"530.975\" y2=\"363.0\" stroke-linecap=\"round\" style=\"stroke:black;stroke-width:7\"/><line x1=\"530.975\" y1=\"363.0\" x2=\"537.784\" y2=\"364.622\" stroke-linecap=\"round\" style=\"stroke:black;stroke-width:7\"/><line x1=\"537.784\" y1=\"364.622\" x2=\"544.588\" y2=\"366.268\" stroke-linecap=\"round\" style=\"stroke:black;stroke-width:7\"/><line x1=\"544.588\" y1=\"366.268\" x2=\"551.386\" y2=\"367.938\" stroke-linecap=\"round\" style=\"stroke:black;stroke-width:7\"/><line x1=\"551.386\" y1=\"367.938\" x2=\"558.178\" y2=\"369.631\" stroke-linecap=\"round\" style=\"stroke:black;stroke-width:7\"/><line x1=\"558.178\" y1=\"369.631\" x2=\"564.964\" y2=\"371.348\" stroke-linecap=\"round\" style=\"stroke:black;stroke-width:7\"/><line x1=\"564.964\" y1=\"371.348\" x2=\"571.744\" y2=\"373.089\" stroke-linecap=\"round\" style=\"stroke:black;stroke-width:7\"/><line x1=\"571.744\" y1=\"373.089\" x2=\"578.518\" y2=\"374.853\" stroke-linecap=\"round\" style=\"stroke:black;stroke-width:7\"/><line x1=\"578.518\" y1=\"374.853\" x2=\"585.286\" y2=\"376.641\" stroke-linecap=\"round\" style=\"stroke:black;stroke-width:7\"/><line x1=\"585.286\" y1=\"376.641\" x2=\"592.047\" y2=\"378.453\" stroke-linecap=\"round\" style=\"stroke:black;stroke-width:7\"/><line x1=\"592.047\" y1=\"378.453\" x2=\"598.802\" y2=\"380.288\" stroke-linecap=\"round\" style=\"stroke:black;stroke-width:7\"/><line x1=\"598.802\" y1=\"380.288\" x2=\"605.551\" y2=\"382.147\" stroke-linecap=\"round\" style=\"stroke:black;stroke-width:7\"/><line x1=\"605.551\" y1=\"382.147\" x2=\"612.293\" y2=\"384.029\" stroke-linecap=\"round\" style=\"stroke:black;stroke-width:7\"/><line x1=\"612.293\" y1=\"384.029\" x2=\"619.029\" y2=\"385.935\" stroke-linecap=\"round\" style=\"stroke:black;stroke-width:7\"/><line x1=\"619.029\" y1=\"385.935\" x2=\"625.758\" y2=\"387.864\" stroke-linecap=\"round\" style=\"stroke:black;stroke-width:7\"/><line x1=\"625.758\" y1=\"387.864\" x2=\"632.48\" y2=\"389.817\" stroke-linecap=\"round\" style=\"stroke:black;stroke-width:7\"/><line x1=\"632.48\" y1=\"389.817\" x2=\"639.195\" y2=\"391.793\" stroke-linecap=\"round\" style=\"stroke:black;stroke-width:7\"/><line x1=\"639.195\" y1=\"391.793\" x2=\"645.903\" y2=\"393.793\" stroke-linecap=\"round\" style=\"stroke:black;stroke-width:7\"/><line x1=\"645.903\" y1=\"393.793\" x2=\"652.604\" y2=\"395.816\" stroke-linecap=\"round\" style=\"stroke:black;stroke-width:7\"/><line x1=\"652.604\" y1=\"395.816\" x2=\"659.298\" y2=\"397.863\" stroke-linecap=\"round\" style=\"stroke:black;stroke-width:7\"/><line x1=\"659.298\" y1=\"397.863\" x2=\"665.985\" y2=\"399.933\" stroke-linecap=\"round\" style=\"stroke:black;stroke-width:7\"/><line x1=\"665.985\" y1=\"399.933\" x2=\"672.665\" y2=\"402.026\" stroke-linecap=\"round\" style=\"stroke:black;stroke-width:7\"/><line x1=\"672.665\" y1=\"402.026\" x2=\"679.337\" y2=\"404.143\" stroke-linecap=\"round\" style=\"stroke:black;stroke-width:7\"/><line x1=\"679.337\" y1=\"404.143\" x2=\"686.002\" y2=\"406.283\" stroke-linecap=\"round\" style=\"stroke:black;stroke-width:7\"/><text x=\"386.002\" y=\"406.283\" fill=\"black\" text-anchor=\"middle\" style=\"font-size:25px;font-family:'Arial';font-style:italic;\">ColabTurtle</text>\n",
       "        <g visibility=visible transform=\"rotate(360,386.002,446.283) translate(368.002, 428.283)\">\n",
       "<path style=\" stroke:none;fill-rule:evenodd;fill:rgb(70 110 70);fill-opacity:1;\" d=\"M 18.214844 0.632812 C 16.109375 1.800781 15.011719 4.074219 15.074219 7.132812 L 15.085938 7.652344 L 14.785156 7.496094 C 13.476562 6.824219 11.957031 6.671875 10.40625 7.066406 C 8.46875 7.550781 6.515625 9.15625 4.394531 11.992188 C 3.0625 13.777344 2.679688 14.636719 3.042969 15.027344 L 3.15625 15.152344 L 3.519531 15.152344 C 4.238281 15.152344 4.828125 14.886719 8.1875 13.039062 C 9.386719 12.378906 10.371094 11.839844 10.378906 11.839844 C 10.386719 11.839844 10.355469 11.929688 10.304688 12.035156 C 9.832031 13.09375 9.257812 14.820312 8.96875 16.078125 C 7.914062 20.652344 8.617188 24.53125 11.070312 27.660156 C 11.351562 28.015625 11.363281 27.914062 10.972656 28.382812 C 8.925781 30.84375 7.945312 33.28125 8.238281 35.1875 C 8.289062 35.527344 8.28125 35.523438 8.917969 35.523438 C 10.941406 35.523438 13.074219 34.207031 15.136719 31.6875 C 15.359375 31.417969 15.328125 31.425781 15.5625 31.574219 C 16.292969 32.042969 18.023438 32.964844 18.175781 32.964844 C 18.335938 32.964844 19.941406 32.210938 20.828125 31.71875 C 20.996094 31.625 21.136719 31.554688 21.136719 31.558594 C 21.203125 31.664062 21.898438 32.414062 22.222656 32.730469 C 23.835938 34.300781 25.5625 35.132812 27.582031 35.300781 C 27.90625 35.328125 27.9375 35.308594 28.007812 34.984375 C 28.382812 33.242188 27.625 30.925781 25.863281 28.425781 L 25.542969 27.96875 L 25.699219 27.785156 C 28.945312 23.960938 29.132812 18.699219 26.257812 11.96875 L 26.207031 11.84375 L 27.945312 12.703125 C 31.53125 14.476562 32.316406 14.800781 33.03125 14.800781 C 33.976562 14.800781 33.78125 13.9375 32.472656 12.292969 C 28.519531 7.355469 25.394531 5.925781 21.921875 7.472656 L 21.558594 7.636719 L 21.578125 7.542969 C 21.699219 6.992188 21.761719 5.742188 21.699219 5.164062 C 21.496094 3.296875 20.664062 1.964844 19.003906 0.855469 C 18.480469 0.503906 18.457031 0.5 18.214844 0.632812\"/>\n",
       "</g>\n",
       "      </svg>\n",
       "    "
      ],
      "text/plain": [
       "<IPython.core.display.HTML object>"
      ]
     },
     "metadata": {},
     "output_type": "display_data"
    }
   ],
   "source": [
    "%pip install colabturtle\n",
    "from ColabTurtle.Turtle import *\n",
    "initializeTurtle()\n",
    "\n",
    "color('mediumblue')\n",
    "penup()\n",
    "goto(100, 250)\n",
    "pendown()\n",
    "forward(100)\n",
    "left(90)\n",
    "forward(40)\n",
    "right(180)\n",
    "forward(80)\n",
    "penup()\n",
    "right(90)\n",
    "forward(50)\n",
    "left(90)\n",
    "forward(50)\n",
    "left(90)\n",
    "backward(10)\n",
    "pendown()\n",
    "speed(10)\n",
    "for i in range(18):\n",
    "    forward(17)\n",
    "    right(20)\n",
    "penup()\n",
    "shape('circle')\n",
    "color(230, 90, 120)\n",
    "speed(7)\n",
    "right(90)\n",
    "forward(160)\n",
    "left(90)\n",
    "forward(60)\n",
    "right(180)\n",
    "pendown()\n",
    "forward(100)\n",
    "left(90)\n",
    "forward(80)\n",
    "penup()\n",
    "shape('turtle')\n",
    "forward(50)\n",
    "left(90)\n",
    "forward(40)\n",
    "pendown()\n",
    "for i in range(5):\n",
    "    forward(17)\n",
    "    right(20)\n",
    "left(200)\n",
    "for i in range(13):\n",
    "    forward(17)\n",
    "    left(20)\n",
    "left(90)\n",
    "forward(50)\n",
    "penup()\n",
    "backward(100)\n",
    "left(90)\n",
    "forward(40)\n",
    "pendown()\n",
    "left(155)\n",
    "forward(105)\n",
    "right(130)\n",
    "forward(105)\n",
    "backward(45)\n",
    "right(115)\n",
    "forward(50)\n",
    "bgcolor(\"#efefef\")\n",
    "penup()\n",
    "backward(70)\n",
    "left(90)\n",
    "forward(100)\n",
    "right(90)\n",
    "pencolor('black')\n",
    "pensize(7)\n",
    "pendown()\n",
    "forward(650)\n",
    "left(180)\n",
    "speed(12)\n",
    "for i in range(90):\n",
    "    forward(7)\n",
    "    right(0.2)\n",
    "speed(2)\n",
    "left(18+180)\n",
    "penup()\n",
    "forward(300)\n",
    "setheading(270)\n",
    "write(\"ColabTurtle\", align=\"center\", font=(25, \"Arial\", \"italic\"))\n",
    "color('rgb(70 110 70)')\n",
    "backward(40)"
   ]
  }
 ],
 "metadata": {
  "kernelspec": {
   "display_name": "Python 3 (ipykernel)",
   "language": "python",
   "name": "python3"
  },
  "language_info": {
   "codemirror_mode": {
    "name": "ipython",
    "version": 3
   },
   "file_extension": ".py",
   "mimetype": "text/x-python",
   "name": "python",
   "nbconvert_exporter": "python",
   "pygments_lexer": "ipython3",
   "version": "3.10.4"
  }
 },
 "nbformat": 4,
 "nbformat_minor": 5
}
