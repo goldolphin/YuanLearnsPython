{
 "cells": [
  {
   "cell_type": "markdown",
   "id": "8a894a5a-9162-460a-8f6a-8ee07d16461f",
   "metadata": {},
   "source": [
    "# 接触递归"
   ]
  },
  {
   "cell_type": "markdown",
   "id": "5a993130-a38a-4d7b-ad59-42e62a0f59e8",
   "metadata": {},
   "source": [
    "1. 算 24? 点"
   ]
  },
  {
   "cell_type": "code",
   "execution_count": 1,
   "id": "a6c61801-dac4-42be-90b8-e08809bb377b",
   "metadata": {
    "tags": []
   },
   "outputs": [
    {
     "name": "stdout",
     "output_type": "stream",
     "text": [
      "问：[1, 5, 7, 17] 算 24...\n",
      "答：找到解法了：\n",
      "7 * 17 = 119\n",
      "119 + 1 = 120\n",
      "120 / 5 = 24\n"
     ]
    }
   ],
   "source": [
    "def dividable(x, y):\n",
    "    return y != 0 and x % y == 0\n",
    "\n",
    "def g(a, i, j, t):\n",
    "    return [t] + a[0:i] + a[i+1:j] + a[j+1:]\n",
    "\n",
    "def f(a, r, msg):\n",
    "    l = len(a)\n",
    "    if l == 1:\n",
    "        return a[0] == r\n",
    "    else:\n",
    "        for i in range(0, l):\n",
    "            for j in range(i+1, l):\n",
    "                if f(g(a, i, j, a[i]+a[j]), r, msg):\n",
    "                    msg.append(\"%d + %d = %d\" % (a[i], a[j], a[i]+a[j]))\n",
    "                    return True\n",
    "                if a[i] >= a[j] and f(g(a, i, j, a[i]-a[j]), r, msg):\n",
    "                    msg.append(\"%d - %d = %d\" % (a[i], a[j], a[i]-a[j]))\n",
    "                    return True\n",
    "                if a[j] >= a[i] and f(g(a, i, j, a[j]-a[i]), r, msg):\n",
    "                    msg.append(\"%d - %d = %d\" % (a[j], a[i], a[j]-a[i]))\n",
    "                    return True\n",
    "                if f(g(a, i, j, a[i]*a[j]), r, msg):\n",
    "                    msg.append(\"%d * %d = %d\" % (a[i], a[j], a[i]*a[j]))\n",
    "                    return True\n",
    "                if dividable(a[i], a[j]) and f(g(a, i, j, a[i]//a[j]), r, msg):\n",
    "                    msg.append(\"%d / %d = %d\" % (a[i], a[j], a[i]//a[j]))\n",
    "                    return True\n",
    "                if dividable(a[j], a[i]) and f(g(a, i, j, a[j]//a[i]), r, msg):\n",
    "                    msg.append(\"%d / %d = %d\" % (a[j], a[i], a[j]//a[i]))\n",
    "                    return True\n",
    "    return False\n",
    "\n",
    "def h(a, r):\n",
    "    msg = []\n",
    "    print(\"问：{} 算 {}...\".format(a, r))\n",
    "    if f(a, r, msg):\n",
    "        print(\"答：找到解法了：\")\n",
    "        for m in reversed(msg):\n",
    "            print(m)\n",
    "    else:\n",
    "        print(\"答：找不到解法\")\n",
    "        \n",
    "\n",
    "h([1, 5, 7, 17], 24)\n"
   ]
  }
 ],
 "metadata": {
  "kernelspec": {
   "display_name": "Python 3 (ipykernel)",
   "language": "python",
   "name": "python3"
  },
  "language_info": {
   "codemirror_mode": {
    "name": "ipython",
    "version": 3
   },
   "file_extension": ".py",
   "mimetype": "text/x-python",
   "name": "python",
   "nbconvert_exporter": "python",
   "pygments_lexer": "ipython3",
   "version": "3.10.4"
  }
 },
 "nbformat": 4,
 "nbformat_minor": 5
}
