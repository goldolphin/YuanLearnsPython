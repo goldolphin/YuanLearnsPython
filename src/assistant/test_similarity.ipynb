{
 "cells": [
  {
   "cell_type": "code",
   "execution_count": 1,
   "metadata": {},
   "outputs": [],
   "source": [
    "query = \"猜数游戏\"\n",
    "candidates = ['''选一个秘密数\n",
    "最多允许\n",
    "猜6次\n",
    "用掉一次机会得到玩家\n",
    "猜的数代码清单 1-2　猜数游戏\n",
    "游戏结束时\n",
    "打印消息\n",
    "''',\n",
    "'确定游戏何时结束。',\n",
    "'抽一张牌',\n",
    "'可以想想看 ……每 个游戏都有某种需要累计的分数； 在',\n",
    "'你的第二个程序猜数游戏（代码清单 1-2 ）就具备以下这三个基本要素。输入：玩家键入的数，也就是他猜的数。处理：程序检查玩家猜的数，并统计已经猜过几次。输出：程序最后打印的 消息。',\n",
    "'代码清单 1-2中 的代码编写的是一个简单的猜数游戏。',\n",
    " '''第一个程序没有多大实际意义， 它只是在屏幕上打印了一些内容。 下面来试一\n",
    "个更有意思的程序。\n",
    "代码清单 1-2中 的代码编写的是一个简单的猜数游戏。 与第一个程序一样， 先选择 File（文 件）  New Window（ 新 窗口）\n",
    "在IDLE编辑器中新建一个文件。 键入代码清单 1-2中 的代码， 然后保存这个文件。 可以把这个文件命名为你喜欢的任何名字，只要以“.py”结尾就可以。NumGuess.py 就是一个不错的名字 。''']\n"
   ]
  },
  {
   "cell_type": "code",
   "execution_count": null,
   "metadata": {},
   "outputs": [],
   "source": [
    "def test_prompting(query, candidates):\n",
    "    t = \"\\n\\n\".join([f'candidate{i}:\\n{candidates[i]}' for i in range(len(candidates))])\n",
    "    return f'''给定一个 query 文本和多个 candidates 文本，candidates 有形如 candidate0, candidate1, ... 的标号。说明每个 candidate 与 query 是否存在相关性，给出解释。解释尽量简洁，使用标号指代 query 和 candidates。并按相关性从大到小的顺序给出它们的标号的排列。\n",
    "\n",
    "query:\n",
    "{query}\n",
    "\n",
    "{t}\n",
    "'''\n",
    "\n",
    "print(test_prompting(query, candidates))"
   ]
  },
  {
   "cell_type": "code",
   "execution_count": null,
   "metadata": {},
   "outputs": [],
   "source": [
    "from Embedding_API import EmbeddingReq\n",
    "appid = \"5453f65e\"     #填写控制台中获取的 APPID 信息\n",
    "api_secret = \"ZWU0Zjc2YTc3MmM1NmQyMDBkZmI0YWEx\"   #填写控制台中获取的 APISecret 信息\n",
    "api_key =\"52f7fa5dd2c7fdaef6e846e05bbab33f\"    #填写控制台中获取的 APIKey 信息\n",
    "emb = EmbeddingReq(appid=appid,\n",
    "                       api_key=api_key,\n",
    "                       api_secret=api_secret,\n",
    "                       embedding_url=r'https://knowledge-retrieval.cn-huabei-1.xf-yun.com/v1/aiui/embedding/query'\n",
    "                       )"
   ]
  },
  {
   "cell_type": "code",
   "execution_count": null,
   "metadata": {},
   "outputs": [],
   "source": [
    "import json\n",
    "def xinghuo_embedding(emb, s):\n",
    "    return json.loads(emb.get_Embedding(s)['payload']['text']['vector'])"
   ]
  },
  {
   "cell_type": "code",
   "execution_count": null,
   "metadata": {},
   "outputs": [],
   "source": [
    "query_embedding = xinghuo_embedding(emb, query)\n",
    "candidates_embedding = [xinghuo_embedding(emb, c) for c in candidates]\n"
   ]
  },
  {
   "cell_type": "code",
   "execution_count": 3,
   "metadata": {},
   "outputs": [
    {
     "ename": "NameError",
     "evalue": "name 'candidates_embedding' is not defined",
     "output_type": "error",
     "traceback": [
      "\u001b[1;31m---------------------------------------------------------------------------\u001b[0m",
      "\u001b[1;31mNameError\u001b[0m                                 Traceback (most recent call last)",
      "\u001b[1;32mx:\\workspace\\YuanLearnsPython\\src\\assistant\\test_similarity.ipynb Cell 6\u001b[0m line \u001b[0;36m6\n\u001b[0;32m      <a href='vscode-notebook-cell:/x%3A/workspace/YuanLearnsPython/src/assistant/test_similarity.ipynb#W5sZmlsZQ%3D%3D?line=2'>3</a>\u001b[0m \u001b[39mdef\u001b[39;00m \u001b[39msimilarity\u001b[39m(a, b):\n\u001b[0;32m      <a href='vscode-notebook-cell:/x%3A/workspace/YuanLearnsPython/src/assistant/test_similarity.ipynb#W5sZmlsZQ%3D%3D?line=3'>4</a>\u001b[0m     \u001b[39mreturn\u001b[39;00m np\u001b[39m.\u001b[39mdot(a, b)\u001b[39m/\u001b[39m(np\u001b[39m.\u001b[39mlinalg\u001b[39m.\u001b[39mnorm(a)\u001b[39m*\u001b[39mnp\u001b[39m.\u001b[39mlinalg\u001b[39m.\u001b[39mnorm(b))\n\u001b[1;32m----> <a href='vscode-notebook-cell:/x%3A/workspace/YuanLearnsPython/src/assistant/test_similarity.ipynb#W5sZmlsZQ%3D%3D?line=5'>6</a>\u001b[0m similarities \u001b[39m=\u001b[39m [similarity(query_embedding, c) \u001b[39mfor\u001b[39;00m c \u001b[39min\u001b[39;00m candidates_embedding]\n\u001b[0;32m      <a href='vscode-notebook-cell:/x%3A/workspace/YuanLearnsPython/src/assistant/test_similarity.ipynb#W5sZmlsZQ%3D%3D?line=6'>7</a>\u001b[0m z \u001b[39m=\u001b[39m \u001b[39mzip\u001b[39m(similarities, candidates)\n\u001b[0;32m      <a href='vscode-notebook-cell:/x%3A/workspace/YuanLearnsPython/src/assistant/test_similarity.ipynb#W5sZmlsZQ%3D%3D?line=7'>8</a>\u001b[0m \u001b[39mfor\u001b[39;00m t \u001b[39min\u001b[39;00m \u001b[39msorted\u001b[39m(z, reverse\u001b[39m=\u001b[39m\u001b[39mTrue\u001b[39;00m):\n",
      "\u001b[1;31mNameError\u001b[0m: name 'candidates_embedding' is not defined"
     ]
    }
   ],
   "source": [
    "import numpy as np\n",
    "\n",
    "def similarity(a, b):\n",
    "    return np.dot(a, b)/(np.linalg.norm(a)*np.linalg.norm(b))\n",
    "\n",
    "similarities = [similarity(query_embedding, c) for c in candidates_embedding]\n",
    "z = zip(similarities, candidates)\n",
    "for t in sorted(z, reverse=True):\n",
    "    print(t)\n"
   ]
  },
  {
   "cell_type": "code",
   "execution_count": 17,
   "metadata": {},
   "outputs": [
    {
     "name": "stdout",
     "output_type": "stream",
     "text": [
      "(0.75340784, '北京在不在北方Beijing is in the north')\n",
      "(0.71580094, '中国首都在北方')\n"
     ]
    }
   ],
   "source": [
    "from sentence_transformers import SentenceTransformer\n",
    "\n",
    "def sbert_embedding(sbert_model, sentence):\n",
    "    return sbert_model.encode(sentence)\n",
    "\n",
    "shibing624_text2vec = SentenceTransformer('ryanlai/shibing624_text2vec-base-chinese-fine-tune-insurance_data')\n",
    "\n",
    "def test_sbert(model):\n",
    "    query_embedding = sbert_embedding(model, query)\n",
    "    candidates_embedding = [sbert_embedding(model, c) for c in candidates]\n",
    "    similarities = [similarity(query_embedding, c) for c in candidates_embedding]\n",
    "    z = zip(similarities, candidates)\n",
    "    for t in sorted(z, reverse=True):\n",
    "        print(t)\n",
    "\n",
    "\n",
    "query = \"北京属于北方\"\n",
    "candidates = [\n",
    "    '中国首都在北方',\n",
    "    '北京在不在北方',\n",
    "    'Beijing is in the north'\n",
    "]\n",
    "\n",
    "test_sbert(shibing624_text2vec)"
   ]
  },
  {
   "cell_type": "code",
   "execution_count": 16,
   "metadata": {},
   "outputs": [
    {
     "name": "stdout",
     "output_type": "stream",
     "text": [
      "(0.8317542, '中国首都在北方')\n",
      "(0.73811495, '北京在不在北方')\n"
     ]
    }
   ],
   "source": [
    "\n",
    "test_sbert(SentenceTransformer('AIDA-UPM/MSTSb_paraphrase-multilingual-MiniLM-L12-v2'))"
   ]
  }
 ],
 "metadata": {
  "kernelspec": {
   "display_name": "base",
   "language": "python",
   "name": "python3"
  },
  "language_info": {
   "codemirror_mode": {
    "name": "ipython",
    "version": 3
   },
   "file_extension": ".py",
   "mimetype": "text/x-python",
   "name": "python",
   "nbconvert_exporter": "python",
   "pygments_lexer": "ipython3",
   "version": "3.10.10"
  },
  "orig_nbformat": 4
 },
 "nbformat": 4,
 "nbformat_minor": 2
}
