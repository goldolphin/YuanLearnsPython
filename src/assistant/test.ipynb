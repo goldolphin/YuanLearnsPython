{
 "cells": [
  {
   "cell_type": "code",
   "execution_count": 5,
   "metadata": {},
   "outputs": [
    {
     "name": "stdout",
     "output_type": "stream",
     "text": [
      "sk-866212b03c7e45528010173a38fe0a61\n"
     ]
    },
    {
     "data": {
      "text/plain": [
       "GenerationResponse(status_code=403, request_id='1189f5b3-d485-9b33-9eb3-2dcfb2e4d752', code='AccessDenied', message='Access denied.', output=None, usage=None)"
      ]
     },
     "metadata": {},
     "output_type": "display_data"
    },
    {
     "name": "stdout",
     "output_type": "stream",
     "text": [
      "AccessDenied\n",
      "Access denied.\n"
     ]
    }
   ],
   "source": [
    "# For prerequisites running the following sample, visit https://help.aliyun.com/document_detail/611472.html\n",
    "from http import HTTPStatus\n",
    "import dashscope\n",
    "from dashscope import Generation\n",
    "\n",
    "dashscope.api_key = \"sk-866212b03c7e45528010173a38fe0a61\"\n",
    "\n",
    "print(dashscope.api_key)\n",
    "\n",
    "def sample_sync_call():\n",
    "    prompt_text='用萝卜、土豆、茄子做饭，给我个菜谱。'\n",
    "    resp=Generation.call(\n",
    "        model='qwen-v1',\n",
    "        prompt=prompt_text\n",
    "    )\n",
    "    # The response status_code is HTTPStatus.OK indicate success,\n",
    "    # otherwise indicate request is failed, you can get error code\n",
    "    # and message from code and message.\n",
    "    display(resp)\n",
    "    if resp.status_code == HTTPStatus.OK: \n",
    "        print(resp.output) # The output text\n",
    "        print(resp.usage)  # The usage information\n",
    "    else:\n",
    "        print(resp.code) # The error code.\n",
    "        print(resp.message) # The error message.\n",
    "\n",
    "sample_sync_call()"
   ]
  },
  {
   "cell_type": "code",
   "execution_count": 6,
   "metadata": {},
   "outputs": [
    {
     "name": "stdout",
     "output_type": "stream",
     "text": [
      "{\"id\":\"as-bib6uqk8cc\",\"object\":\"chat.completion\",\"created\":1693017922,\"result\":\"儿童学习 Python 可以遵循以下步骤：\\n\\n1. 理解 Python 是什么：Python 是一种高级编程语言，被广泛应用于数据科学、人工智能、自动化、游戏开发等领域。Python 具有简单易学、可读性高、功能强大等优点。\\n2. 选择一个 Python 学习资源：有许多适合儿童的 Python 学习资源，包括在线课程、教科书、视频教程等。选择一个适合自己学习节奏和兴趣爱好的资源。\\n3. 开始学习：根据选择的 Python 学习资源，逐步学习 Python 的基础知识，包括变量、数据类型、条件语句、循环语句、函数等。\\n4. 实践编程：练习编写简单的 Python 程序，尝试解决一些实际问题，如计算器、猜数字等。\\n5. 参加 Python 社区活动：加入 Python 社区，与其他 Python 爱好者交流，分享学习心得，获取更多学习资源。\\n6. 持续学习：Python 是一门不断发展的语言，需要持续学习，掌握更多高级技能和工具。\\n\\n总之，儿童学习 Python 需要保持兴趣和热情，逐步掌握基础知识，并不断实践和探索。\",\"is_truncated\":false,\"need_clear_history\":false,\"usage\":{\"prompt_tokens\":8,\"completion_tokens\":313,\"total_tokens\":321}}\n"
     ]
    }
   ],
   "source": [
    "import requests\n",
    "import json\n",
    "\n",
    "def get_access_token():\n",
    "    \"\"\"\n",
    "    使用 API Key，Secret Key 获取access_token，替换下列示例中的应用API Key、应用Secret Key\n",
    "    \"\"\"\n",
    "        \n",
    "    url = \"https://aip.baidubce.com/oauth/2.0/token?grant_type=client_credentials&client_id=exZB0M5OEmlwpUZTc4dOnZC3&client_secret=qDvyzjU0YAiUeRV1ItN87QuxeoaCVEuP\"\n",
    "    \n",
    "    payload = json.dumps(\"\")\n",
    "    headers = {\n",
    "        'Content-Type': 'application/json',\n",
    "        'Accept': 'application/json'\n",
    "    }\n",
    "    \n",
    "    response = requests.request(\"POST\", url, headers=headers, data=payload)\n",
    "    return response.json().get(\"access_token\")\n",
    "\n",
    "\n",
    "def test():\n",
    "    url = \"https://aip.baidubce.com/rpc/2.0/ai_custom/v1/wenxinworkshop/chat/eb-instant?access_token=\" + get_access_token()\n",
    "    payload = json.dumps({\n",
    "        \"messages\": [\n",
    "            {\n",
    "                \"role\": \"user\",\n",
    "                \"content\": \"儿童应该怎么学 Python\"\n",
    "            }\n",
    "        ]\n",
    "    })\n",
    "    headers = {\n",
    "        'Content-Type': 'application/json'\n",
    "    }\n",
    "    \n",
    "    response = requests.request(\"POST\", url, headers=headers, data=payload)\n",
    "    \n",
    "    print(response.text)\n",
    "\n",
    "test()"
   ]
  },
  {
   "cell_type": "code",
   "execution_count": 1,
   "metadata": {},
   "outputs": [
    {
     "name": "stdout",
     "output_type": "stream",
     "text": [
      "星火:学习Python对于儿童来说是一个很好的选择，因为它是一种简单易学的编程语言。以下是一些建议，可以帮助孩子们开始学习Python:\n",
      "  1. 了解基本概念：首先，孩子们需要了解计算机和编程的基本概念。这包括了解什么是计算机、什么是程序以及如何使用键盘和鼠标等。\n",
      "  2. 学习Python基础语法：一旦孩子们对计算机有了基本的了解，他们可以开始学习Python的基础语法。这包括了解变量、数据类型、运算符、条件语句、循环语句等。\n",
      "  3. 练习编写简单的程序：在学习了Python的基础语法之后，孩子们可以开始练习编写简单的程序。这可以帮助他们巩固所学的知识，并提高编程技能。\n",
      "  4. 利用在线资源：有许多免费的在线资源可供孩子们使用，例如Codecademy、Khan Academy和Scratch等。这些资源提供了丰富的学习材料和互动式的编程环境，可以帮助孩子们更好地学习和理解Python。\n",
      "  5. 加入社区：加入Python社区可以让孩子们与其他学习者交流经验，分享想法，并获得帮助和支持。有许多在线论坛和社交媒体群组专门为Python学习者而设。\n",
      "总之，让孩子们学习Python需要耐心和鼓励。通过适当的指导和资源，孩子们可以逐渐掌握Python编程的基本技能，并在未来的职业生涯中受益于此。星火:请求错误: 10003, {'header': {'code': 10003, 'message': 'ClientMsgError:(10:51:16.056) user content is empty', 'sid': 'cht000b2974@dx18a2fc0c0d6b8f2540', 'status': 2}}\n",
      "星火:请求错误: 10003, {'header': {'code': 10003, 'message': 'ClientMsgError:(10:51:17.051) user content is empty', 'sid': 'cht000b2976@dx18a2fc0c4bab8f2540', 'status': 2}}\n",
      "星火:请求错误: 10003, {'header': {'code': 10003, 'message': 'ClientMsgError:(10:51:17.929) user content is empty', 'sid': 'cht000b18d8@dx18a2fc0c8299a4b540', 'status': 2}}\n",
      "星火:请求错误: 10003, {'header': {'code': 10003, 'message': 'ClientMsgError:(10:51:18.695) user content is empty', 'sid': 'cht000b18da@dx18a2fc0cb279a4b540', 'status': 2}}\n",
      "星火:请求错误: 11202, {'header': {'code': 11202, 'message': 'AppIdQpsOverFlowError:(10:51:19.325) cbm', 'sid': 'cht000b18de@dx18a2fc0cd9d9a4b540', 'status': 2}}\n"
     ]
    },
    {
     "ename": "KeyboardInterrupt",
     "evalue": "Interrupted by user",
     "output_type": "error",
     "traceback": [
      "\u001b[1;31m---------------------------------------------------------------------------\u001b[0m",
      "\u001b[1;31mKeyboardInterrupt\u001b[0m                         Traceback (most recent call last)",
      "Cell \u001b[1;32mIn[1], line 44\u001b[0m\n\u001b[0;32m     42\u001b[0m text\u001b[39m.\u001b[39mclear\n\u001b[0;32m     43\u001b[0m \u001b[39mwhile\u001b[39;00m(\u001b[39m1\u001b[39m):\n\u001b[1;32m---> 44\u001b[0m     Input \u001b[39m=\u001b[39m \u001b[39minput\u001b[39;49m(\u001b[39m\"\u001b[39;49m\u001b[39m\\n\u001b[39;49;00m\u001b[39m\"\u001b[39;49m \u001b[39m+\u001b[39;49m\u001b[39m\"\u001b[39;49m\u001b[39m我:\u001b[39;49m\u001b[39m\"\u001b[39;49m)\n\u001b[0;32m     45\u001b[0m     question \u001b[39m=\u001b[39m checklen(getText(\u001b[39m\"\u001b[39m\u001b[39muser\u001b[39m\u001b[39m\"\u001b[39m,Input))\n\u001b[0;32m     46\u001b[0m     SparkApi\u001b[39m.\u001b[39manswer \u001b[39m=\u001b[39m\u001b[39m\"\u001b[39m\u001b[39m\"\u001b[39m\n",
      "File \u001b[1;32mc:\\Users\\goldolphin\\miniconda3\\lib\\site-packages\\ipykernel\\kernelbase.py:1175\u001b[0m, in \u001b[0;36mKernel.raw_input\u001b[1;34m(self, prompt)\u001b[0m\n\u001b[0;32m   1171\u001b[0m \u001b[39mif\u001b[39;00m \u001b[39mnot\u001b[39;00m \u001b[39mself\u001b[39m\u001b[39m.\u001b[39m_allow_stdin:\n\u001b[0;32m   1172\u001b[0m     \u001b[39mraise\u001b[39;00m StdinNotImplementedError(\n\u001b[0;32m   1173\u001b[0m         \u001b[39m\"\u001b[39m\u001b[39mraw_input was called, but this frontend does not support input requests.\u001b[39m\u001b[39m\"\u001b[39m\n\u001b[0;32m   1174\u001b[0m     )\n\u001b[1;32m-> 1175\u001b[0m \u001b[39mreturn\u001b[39;00m \u001b[39mself\u001b[39;49m\u001b[39m.\u001b[39;49m_input_request(\n\u001b[0;32m   1176\u001b[0m     \u001b[39mstr\u001b[39;49m(prompt),\n\u001b[0;32m   1177\u001b[0m     \u001b[39mself\u001b[39;49m\u001b[39m.\u001b[39;49m_parent_ident[\u001b[39m\"\u001b[39;49m\u001b[39mshell\u001b[39;49m\u001b[39m\"\u001b[39;49m],\n\u001b[0;32m   1178\u001b[0m     \u001b[39mself\u001b[39;49m\u001b[39m.\u001b[39;49mget_parent(\u001b[39m\"\u001b[39;49m\u001b[39mshell\u001b[39;49m\u001b[39m\"\u001b[39;49m),\n\u001b[0;32m   1179\u001b[0m     password\u001b[39m=\u001b[39;49m\u001b[39mFalse\u001b[39;49;00m,\n\u001b[0;32m   1180\u001b[0m )\n",
      "File \u001b[1;32mc:\\Users\\goldolphin\\miniconda3\\lib\\site-packages\\ipykernel\\kernelbase.py:1217\u001b[0m, in \u001b[0;36mKernel._input_request\u001b[1;34m(self, prompt, ident, parent, password)\u001b[0m\n\u001b[0;32m   1214\u001b[0m             \u001b[39mbreak\u001b[39;00m\n\u001b[0;32m   1215\u001b[0m \u001b[39mexcept\u001b[39;00m \u001b[39mKeyboardInterrupt\u001b[39;00m:\n\u001b[0;32m   1216\u001b[0m     \u001b[39m# re-raise KeyboardInterrupt, to truncate traceback\u001b[39;00m\n\u001b[1;32m-> 1217\u001b[0m     \u001b[39mraise\u001b[39;00m \u001b[39mKeyboardInterrupt\u001b[39;00m(\u001b[39m\"\u001b[39m\u001b[39mInterrupted by user\u001b[39m\u001b[39m\"\u001b[39m) \u001b[39mfrom\u001b[39;00m \u001b[39mNone\u001b[39;00m\n\u001b[0;32m   1218\u001b[0m \u001b[39mexcept\u001b[39;00m \u001b[39mException\u001b[39;00m:\n\u001b[0;32m   1219\u001b[0m     \u001b[39mself\u001b[39m\u001b[39m.\u001b[39mlog\u001b[39m.\u001b[39mwarning(\u001b[39m\"\u001b[39m\u001b[39mInvalid Message:\u001b[39m\u001b[39m\"\u001b[39m, exc_info\u001b[39m=\u001b[39m\u001b[39mTrue\u001b[39;00m)\n",
      "\u001b[1;31mKeyboardInterrupt\u001b[0m: Interrupted by user"
     ]
    }
   ],
   "source": [
    "import SparkApi\n",
    "#以下密钥信息从控制台获取\n",
    "appid = \"5453f65e\"     #填写控制台中获取的 APPID 信息\n",
    "api_secret = \"ZWU0Zjc2YTc3MmM1NmQyMDBkZmI0YWEx\"   #填写控制台中获取的 APISecret 信息\n",
    "api_key =\"52f7fa5dd2c7fdaef6e846e05bbab33f\"    #填写控制台中获取的 APIKey 信息\n",
    "\n",
    "#用于配置大模型版本，默认“general/generalv2”\n",
    "domain = \"general\"   # v1.5版本\n",
    "# domain = \"generalv2\"    # v2.0版本\n",
    "#云端环境的服务地址\n",
    "Spark_url = \"ws://spark-api.xf-yun.com/v1.1/chat\"  # v1.5环境的地址\n",
    "# Spark_url = \"ws://spark-api.xf-yun.com/v2.1/chat\"  # v2.0环境的地址\n",
    "\n",
    "\n",
    "text =[]\n",
    "\n",
    "# length = 0\n",
    "\n",
    "def getText(role,content):\n",
    "    jsoncon = {}\n",
    "    jsoncon[\"role\"] = role\n",
    "    jsoncon[\"content\"] = content\n",
    "    text.append(jsoncon)\n",
    "    return text\n",
    "\n",
    "def getlength(text):\n",
    "    length = 0\n",
    "    for content in text:\n",
    "        temp = content[\"content\"]\n",
    "        leng = len(temp)\n",
    "        length += leng\n",
    "    return length\n",
    "\n",
    "def checklen(text):\n",
    "    while (getlength(text) > 8000):\n",
    "        del text[0]\n",
    "    return text\n",
    "    \n",
    "\n",
    "\n",
    "if __name__ == '__main__':\n",
    "    text.clear\n",
    "    while(1):\n",
    "        Input = input(\"\\n\" +\"我:\")\n",
    "        question = checklen(getText(\"user\",Input))\n",
    "        SparkApi.answer =\"\"\n",
    "        print(\"星火:\",end = \"\")\n",
    "        SparkApi.main(appid,api_key,api_secret,Spark_url,domain,question)\n",
    "        getText(\"assistant\",SparkApi.answer)\n",
    "        # print(str(text))\n",
    "\n"
   ]
  }
 ],
 "metadata": {
  "kernelspec": {
   "display_name": "base",
   "language": "python",
   "name": "python3"
  },
  "language_info": {
   "codemirror_mode": {
    "name": "ipython",
    "version": 3
   },
   "file_extension": ".py",
   "mimetype": "text/x-python",
   "name": "python",
   "nbconvert_exporter": "python",
   "pygments_lexer": "ipython3",
   "version": "3.10.10"
  },
  "orig_nbformat": 4
 },
 "nbformat": 4,
 "nbformat_minor": 2
}
