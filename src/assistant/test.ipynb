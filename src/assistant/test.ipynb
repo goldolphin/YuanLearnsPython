{
 "cells": [
  {
   "cell_type": "code",
   "execution_count": 5,
   "metadata": {},
   "outputs": [
    {
     "name": "stdout",
     "output_type": "stream",
     "text": [
      "sk-866212b03c7e45528010173a38fe0a61\n"
     ]
    },
    {
     "data": {
      "text/plain": [
       "GenerationResponse(status_code=403, request_id='1189f5b3-d485-9b33-9eb3-2dcfb2e4d752', code='AccessDenied', message='Access denied.', output=None, usage=None)"
      ]
     },
     "metadata": {},
     "output_type": "display_data"
    },
    {
     "name": "stdout",
     "output_type": "stream",
     "text": [
      "AccessDenied\n",
      "Access denied.\n"
     ]
    }
   ],
   "source": [
    "# For prerequisites running the following sample, visit https://help.aliyun.com/document_detail/611472.html\n",
    "from http import HTTPStatus\n",
    "import dashscope\n",
    "from dashscope import Generation\n",
    "\n",
    "dashscope.api_key = \"sk-866212b03c7e45528010173a38fe0a61\"\n",
    "\n",
    "print(dashscope.api_key)\n",
    "\n",
    "def sample_sync_call():\n",
    "    prompt_text='用萝卜、土豆、茄子做饭，给我个菜谱。'\n",
    "    resp=Generation.call(\n",
    "        model='qwen-v1',\n",
    "        prompt=prompt_text\n",
    "    )\n",
    "    # The response status_code is HTTPStatus.OK indicate success,\n",
    "    # otherwise indicate request is failed, you can get error code\n",
    "    # and message from code and message.\n",
    "    display(resp)\n",
    "    if resp.status_code == HTTPStatus.OK: \n",
    "        print(resp.output) # The output text\n",
    "        print(resp.usage)  # The usage information\n",
    "    else:\n",
    "        print(resp.code) # The error code.\n",
    "        print(resp.message) # The error message.\n",
    "\n",
    "sample_sync_call()"
   ]
  },
  {
   "cell_type": "code",
   "execution_count": 6,
   "metadata": {},
   "outputs": [
    {
     "name": "stdout",
     "output_type": "stream",
     "text": [
      "{\"id\":\"as-bib6uqk8cc\",\"object\":\"chat.completion\",\"created\":1693017922,\"result\":\"儿童学习 Python 可以遵循以下步骤：\\n\\n1. 理解 Python 是什么：Python 是一种高级编程语言，被广泛应用于数据科学、人工智能、自动化、游戏开发等领域。Python 具有简单易学、可读性高、功能强大等优点。\\n2. 选择一个 Python 学习资源：有许多适合儿童的 Python 学习资源，包括在线课程、教科书、视频教程等。选择一个适合自己学习节奏和兴趣爱好的资源。\\n3. 开始学习：根据选择的 Python 学习资源，逐步学习 Python 的基础知识，包括变量、数据类型、条件语句、循环语句、函数等。\\n4. 实践编程：练习编写简单的 Python 程序，尝试解决一些实际问题，如计算器、猜数字等。\\n5. 参加 Python 社区活动：加入 Python 社区，与其他 Python 爱好者交流，分享学习心得，获取更多学习资源。\\n6. 持续学习：Python 是一门不断发展的语言，需要持续学习，掌握更多高级技能和工具。\\n\\n总之，儿童学习 Python 需要保持兴趣和热情，逐步掌握基础知识，并不断实践和探索。\",\"is_truncated\":false,\"need_clear_history\":false,\"usage\":{\"prompt_tokens\":8,\"completion_tokens\":313,\"total_tokens\":321}}\n"
     ]
    }
   ],
   "source": [
    "import requests\n",
    "import json\n",
    "\n",
    "def get_access_token():\n",
    "    \"\"\"\n",
    "    使用 API Key，Secret Key 获取access_token，替换下列示例中的应用API Key、应用Secret Key\n",
    "    \"\"\"\n",
    "        \n",
    "    url = \"https://aip.baidubce.com/oauth/2.0/token?grant_type=client_credentials&client_id=exZB0M5OEmlwpUZTc4dOnZC3&client_secret=qDvyzjU0YAiUeRV1ItN87QuxeoaCVEuP\"\n",
    "    \n",
    "    payload = json.dumps(\"\")\n",
    "    headers = {\n",
    "        'Content-Type': 'application/json',\n",
    "        'Accept': 'application/json'\n",
    "    }\n",
    "    \n",
    "    response = requests.request(\"POST\", url, headers=headers, data=payload)\n",
    "    return response.json().get(\"access_token\")\n",
    "\n",
    "\n",
    "def test():\n",
    "    url = \"https://aip.baidubce.com/rpc/2.0/ai_custom/v1/wenxinworkshop/chat/eb-instant?access_token=\" + get_access_token()\n",
    "    payload = json.dumps({\n",
    "        \"messages\": [\n",
    "            {\n",
    "                \"role\": \"user\",\n",
    "                \"content\": \"儿童应该怎么学 Python\"\n",
    "            }\n",
    "        ]\n",
    "    })\n",
    "    headers = {\n",
    "        'Content-Type': 'application/json'\n",
    "    }\n",
    "    \n",
    "    response = requests.request(\"POST\", url, headers=headers, data=payload)\n",
    "    \n",
    "    print(response.text)\n",
    "\n",
    "test()"
   ]
  },
  {
   "cell_type": "code",
   "execution_count": 84,
   "metadata": {},
   "outputs": [
    {
     "name": "stdout",
     "output_type": "stream",
     "text": [
      "【思考步骤】\n",
      "1. 从教材内容中，我们可以看到Python是一种编程语言，它被用于教授编程。教材还提到了Python的安装过程和版本信息。\n",
      "2. 学生提问是关于Python是什么的问题，这与教材内容是相关的，因为教材内容就是在解释Python是什么以及它的一些特性和用途。\n",
      "3. 因此，我们可以回答这个问题，Python是一种高级编程语言，它以其简洁易读的语法和强大的功能而受到广泛的欢迎。"
     ]
    }
   ],
   "source": [
    "import SparkApi\n",
    "#以下密钥信息从控制台获取\n",
    "appid = \"5453f65e\"     #填写控制台中获取的 APPID 信息\n",
    "api_secret = \"ZWU0Zjc2YTc3MmM1NmQyMDBkZmI0YWEx\"   #填写控制台中获取的 APISecret 信息\n",
    "api_key =\"52f7fa5dd2c7fdaef6e846e05bbab33f\"    #填写控制台中获取的 APIKey 信息\n",
    "\n",
    "#用于配置大模型版本，默认“general/generalv2”\n",
    "# domain = \"general\"   # v1.5版本\n",
    "domain = \"generalv2\"    # v2.0版本\n",
    "#云端环境的服务地址\n",
    "# Spark_url = \"ws://spark-api.xf-yun.com/v1.1/chat\"  # v1.5环境的地址\n",
    "Spark_url = \"ws://spark-api.xf-yun.com/v2.1/chat\"  # v2.0环境的地址\n",
    "\n",
    "\n",
    "question = \"python是什么？\"\n",
    "#如果\"教材内容\"与\"学生提问\"相关，请根据\"教材内容\"进行回答，否则请回答\"这个问题超出教材的范围了\"\n",
    "request = [{\n",
    "    \"role\": \"user\",\n",
    "    \"content\": \n",
    "f\"\"\"你是给儿童教授python编程的老师，下面将给出【教材内容】、【学生提问】和【思考步骤】三部分内容，你需要按【思考步骤】一步一步地思考，并回答【学生提问】：\n",
    "\n",
    "【教材内容】\n",
    "安装 Python非常容易。我们强烈建议你使用 Hello World 安装程序来安装使用本书所需的 Python版本。该安装程序可在本书的网站 www.helloworldbook2.com 上找到。根据你的计算机的操作系统可以找到相应的安装程序版本。\n",
    "这里分别提供了面向 Windows 、Mac OS X 和Linux的版本。这本书里的所有例子都是 Windows 版本，不过在 Mac OS X 或Linux中使用 Python也很类似。只需要按网站上的说明运行适合你的系统的版本。\n",
    "本书使用的 Python版本是 2.7.3版本。如果使用本书网站上的安装程序，你得到的就是这个版本。当你读到这本书时，可能已经有了更新的 Python版本。这本书里的所有例子已经用 Python 2.7.3做过测试。它们很可能也可以用于以后的 2.x版本，不过我们无法预知未来，所以不能保证这一点。\n",
    "写作本书的前几年，Python 发布了一个新版本，也就是 Python 3。但是，它并不是 Python一个真正意义上的“升级版本”。这就导致很多人并不想切换到 Python 3，所以他们仍然使用 Python 2。Python 的开发者也在同时开发Python 2 的新版本和 Python 3 的新版本。在写作本书第 2版的时候，Python 2和Python 3 的最新版本分别是 Python 2.7.3 和Python 3.3.0。本书中使用的是Python 2.7.3，这些代码应该能与 Python 2.x 的任何后续版本都兼容。\n",
    "更多有关 Python 2 和Python 3 的细节，请参阅附录 B。\n",
    "即使你的计算机上已经安装了Python，不打算使用这本书的安装程序，但是还要确保安装这本书需要的一些“额外内容”。查看网站（www.helloworldbook2.com）的安装说明（Installation Instructions）部分，看看应该怎么做。这里再强调一次，要想确保本书中的全部代码都能正确运行，最好的办法就是使用我们的安装程序。你可以在本书的网站（www.helloworldbook2.com）上找到该安装程序。\n",
    "\n",
    "【学生提问】\n",
    "{question}\n",
    "\n",
    "【思考步骤】\n",
    "请按以下步骤一步一步地思考，并输出最终答案。\n",
    "1. 如果【教材内容】与【学生提问】相关性不高，请输出\"这个问题超出本课范围\"并结束回答\n",
    "2. 如果【教材内容】与【学生提问】相关性较高，则提取相关信息并输出。\n",
    "\n",
    "\"\"\",\n",
    "}]\n",
    "\n",
    "SparkApi.answer =\"\"\n",
    "SparkApi.main(appid,api_key,api_secret,Spark_url,domain,request)"
   ]
  },
  {
   "cell_type": "code",
   "execution_count": null,
   "metadata": {},
   "outputs": [],
   "source": []
  }
 ],
 "metadata": {
  "kernelspec": {
   "display_name": "base",
   "language": "python",
   "name": "python3"
  },
  "language_info": {
   "codemirror_mode": {
    "name": "ipython",
    "version": 3
   },
   "file_extension": ".py",
   "mimetype": "text/x-python",
   "name": "python",
   "nbconvert_exporter": "python",
   "pygments_lexer": "ipython3",
   "version": "3.10.10"
  },
  "orig_nbformat": 4
 },
 "nbformat": 4,
 "nbformat_minor": 2
}
