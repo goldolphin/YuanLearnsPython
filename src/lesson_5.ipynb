{
 "cells": [
  {
   "attachments": {},
   "cell_type": "markdown",
   "metadata": {},
   "source": [
    "# 自定义模块"
   ]
  },
  {
   "attachments": {},
   "cell_type": "markdown",
   "metadata": {},
   "source": [
    "1. 在原来的 Turtle 模块基础上增加一些函数，构成新模块 MyTurtle。新增的函数比如 swim"
   ]
  },
  {
   "cell_type": "code",
   "execution_count": 36,
   "metadata": {},
   "outputs": [
    {
     "data": {
      "text/html": [
       "\n",
       "      <svg width=\"800\" height=\"500\">\n",
       "        <rect width=\"100%\" height=\"100%\" fill=\"black\"/>\n",
       "        <line x1=\"400\" y1=\"250\" x2=\"400.0\" y2=\"250.0\" stroke-linecap=\"round\" style=\"stroke:white;stroke-width:4\"/><line x1=\"400.0\" y1=\"250.0\" x2=\"404.158\" y2=\"248.0\" stroke-linecap=\"round\" style=\"stroke:white;stroke-width:4\"/><line x1=\"404.158\" y1=\"248.0\" x2=\"408.135\" y2=\"246.0\" stroke-linecap=\"round\" style=\"stroke:white;stroke-width:4\"/><line x1=\"408.135\" y1=\"246.0\" x2=\"411.756\" y2=\"244.0\" stroke-linecap=\"round\" style=\"stroke:white;stroke-width:4\"/><line x1=\"411.756\" y1=\"244.0\" x2=\"414.863\" y2=\"242.0\" stroke-linecap=\"round\" style=\"stroke:white;stroke-width:4\"/><line x1=\"414.863\" y1=\"242.0\" x2=\"417.321\" y2=\"240.0\" stroke-linecap=\"round\" style=\"stroke:white;stroke-width:4\"/><line x1=\"417.321\" y1=\"240.0\" x2=\"419.021\" y2=\"238.0\" stroke-linecap=\"round\" style=\"stroke:white;stroke-width:4\"/><line x1=\"419.021\" y1=\"238.0\" x2=\"419.89\" y2=\"236.0\" stroke-linecap=\"round\" style=\"stroke:white;stroke-width:4\"/><line x1=\"419.89\" y1=\"236.0\" x2=\"419.89\" y2=\"234.0\" stroke-linecap=\"round\" style=\"stroke:white;stroke-width:4\"/><line x1=\"419.89\" y1=\"234.0\" x2=\"419.021\" y2=\"232.0\" stroke-linecap=\"round\" style=\"stroke:white;stroke-width:4\"/><line x1=\"419.021\" y1=\"232.0\" x2=\"417.321\" y2=\"230.0\" stroke-linecap=\"round\" style=\"stroke:white;stroke-width:4\"/><line x1=\"417.321\" y1=\"230.0\" x2=\"414.863\" y2=\"228.0\" stroke-linecap=\"round\" style=\"stroke:white;stroke-width:4\"/><line x1=\"414.863\" y1=\"228.0\" x2=\"411.756\" y2=\"226.0\" stroke-linecap=\"round\" style=\"stroke:white;stroke-width:4\"/><line x1=\"411.756\" y1=\"226.0\" x2=\"408.135\" y2=\"224.0\" stroke-linecap=\"round\" style=\"stroke:white;stroke-width:4\"/><line x1=\"408.135\" y1=\"224.0\" x2=\"404.158\" y2=\"222.0\" stroke-linecap=\"round\" style=\"stroke:white;stroke-width:4\"/><line x1=\"404.158\" y1=\"222.0\" x2=\"400.0\" y2=\"220.0\" stroke-linecap=\"round\" style=\"stroke:white;stroke-width:4\"/><line x1=\"400.0\" y1=\"220.0\" x2=\"395.842\" y2=\"218.0\" stroke-linecap=\"round\" style=\"stroke:white;stroke-width:4\"/><line x1=\"395.842\" y1=\"218.0\" x2=\"391.865\" y2=\"216.0\" stroke-linecap=\"round\" style=\"stroke:white;stroke-width:4\"/><line x1=\"391.865\" y1=\"216.0\" x2=\"388.244\" y2=\"214.0\" stroke-linecap=\"round\" style=\"stroke:white;stroke-width:4\"/><line x1=\"388.244\" y1=\"214.0\" x2=\"385.137\" y2=\"212.0\" stroke-linecap=\"round\" style=\"stroke:white;stroke-width:4\"/><line x1=\"385.137\" y1=\"212.0\" x2=\"382.679\" y2=\"210.0\" stroke-linecap=\"round\" style=\"stroke:white;stroke-width:4\"/><line x1=\"382.679\" y1=\"210.0\" x2=\"380.979\" y2=\"208.0\" stroke-linecap=\"round\" style=\"stroke:white;stroke-width:4\"/><line x1=\"380.979\" y1=\"208.0\" x2=\"380.11\" y2=\"206.0\" stroke-linecap=\"round\" style=\"stroke:white;stroke-width:4\"/><line x1=\"380.11\" y1=\"206.0\" x2=\"380.11\" y2=\"204.0\" stroke-linecap=\"round\" style=\"stroke:white;stroke-width:4\"/><line x1=\"380.11\" y1=\"204.0\" x2=\"380.979\" y2=\"202.0\" stroke-linecap=\"round\" style=\"stroke:white;stroke-width:4\"/><line x1=\"380.979\" y1=\"202.0\" x2=\"382.679\" y2=\"200.0\" stroke-linecap=\"round\" style=\"stroke:white;stroke-width:4\"/><line x1=\"382.679\" y1=\"200.0\" x2=\"385.137\" y2=\"198.0\" stroke-linecap=\"round\" style=\"stroke:white;stroke-width:4\"/><line x1=\"385.137\" y1=\"198.0\" x2=\"388.244\" y2=\"196.0\" stroke-linecap=\"round\" style=\"stroke:white;stroke-width:4\"/><line x1=\"388.244\" y1=\"196.0\" x2=\"391.865\" y2=\"194.0\" stroke-linecap=\"round\" style=\"stroke:white;stroke-width:4\"/><line x1=\"391.865\" y1=\"194.0\" x2=\"395.842\" y2=\"192.0\" stroke-linecap=\"round\" style=\"stroke:white;stroke-width:4\"/><line x1=\"395.842\" y1=\"192.0\" x2=\"400.0\" y2=\"190.0\" stroke-linecap=\"round\" style=\"stroke:white;stroke-width:4\"/><line x1=\"400.0\" y1=\"190.0\" x2=\"404.158\" y2=\"188.0\" stroke-linecap=\"round\" style=\"stroke:white;stroke-width:4\"/><line x1=\"404.158\" y1=\"188.0\" x2=\"408.135\" y2=\"186.0\" stroke-linecap=\"round\" style=\"stroke:white;stroke-width:4\"/><line x1=\"408.135\" y1=\"186.0\" x2=\"411.756\" y2=\"184.0\" stroke-linecap=\"round\" style=\"stroke:white;stroke-width:4\"/><line x1=\"411.756\" y1=\"184.0\" x2=\"414.863\" y2=\"182.0\" stroke-linecap=\"round\" style=\"stroke:white;stroke-width:4\"/><line x1=\"414.863\" y1=\"182.0\" x2=\"417.321\" y2=\"180.0\" stroke-linecap=\"round\" style=\"stroke:white;stroke-width:4\"/><line x1=\"417.321\" y1=\"180.0\" x2=\"419.021\" y2=\"178.0\" stroke-linecap=\"round\" style=\"stroke:white;stroke-width:4\"/><line x1=\"419.021\" y1=\"178.0\" x2=\"419.89\" y2=\"176.0\" stroke-linecap=\"round\" style=\"stroke:white;stroke-width:4\"/><line x1=\"419.89\" y1=\"176.0\" x2=\"419.89\" y2=\"174.0\" stroke-linecap=\"round\" style=\"stroke:white;stroke-width:4\"/><line x1=\"419.89\" y1=\"174.0\" x2=\"419.021\" y2=\"172.0\" stroke-linecap=\"round\" style=\"stroke:white;stroke-width:4\"/><line x1=\"419.021\" y1=\"172.0\" x2=\"417.321\" y2=\"170.0\" stroke-linecap=\"round\" style=\"stroke:white;stroke-width:4\"/><line x1=\"417.321\" y1=\"170.0\" x2=\"414.863\" y2=\"168.0\" stroke-linecap=\"round\" style=\"stroke:white;stroke-width:4\"/><line x1=\"414.863\" y1=\"168.0\" x2=\"411.756\" y2=\"166.0\" stroke-linecap=\"round\" style=\"stroke:white;stroke-width:4\"/><line x1=\"411.756\" y1=\"166.0\" x2=\"408.135\" y2=\"164.0\" stroke-linecap=\"round\" style=\"stroke:white;stroke-width:4\"/><line x1=\"408.135\" y1=\"164.0\" x2=\"404.158\" y2=\"162.0\" stroke-linecap=\"round\" style=\"stroke:white;stroke-width:4\"/><line x1=\"404.158\" y1=\"162.0\" x2=\"400.0\" y2=\"160.0\" stroke-linecap=\"round\" style=\"stroke:white;stroke-width:4\"/><line x1=\"400.0\" y1=\"160.0\" x2=\"395.842\" y2=\"158.0\" stroke-linecap=\"round\" style=\"stroke:white;stroke-width:4\"/><line x1=\"395.842\" y1=\"158.0\" x2=\"391.865\" y2=\"156.0\" stroke-linecap=\"round\" style=\"stroke:white;stroke-width:4\"/><line x1=\"391.865\" y1=\"156.0\" x2=\"388.244\" y2=\"154.0\" stroke-linecap=\"round\" style=\"stroke:white;stroke-width:4\"/><line x1=\"388.244\" y1=\"154.0\" x2=\"385.137\" y2=\"152.0\" stroke-linecap=\"round\" style=\"stroke:white;stroke-width:4\"/><line x1=\"385.137\" y1=\"152.0\" x2=\"382.679\" y2=\"150.0\" stroke-linecap=\"round\" style=\"stroke:white;stroke-width:4\"/><line x1=\"382.679\" y1=\"150.0\" x2=\"380.979\" y2=\"148.0\" stroke-linecap=\"round\" style=\"stroke:white;stroke-width:4\"/><line x1=\"380.979\" y1=\"148.0\" x2=\"380.11\" y2=\"146.0\" stroke-linecap=\"round\" style=\"stroke:white;stroke-width:4\"/><line x1=\"380.11\" y1=\"146.0\" x2=\"380.11\" y2=\"144.0\" stroke-linecap=\"round\" style=\"stroke:white;stroke-width:4\"/><line x1=\"380.11\" y1=\"144.0\" x2=\"380.979\" y2=\"142.0\" stroke-linecap=\"round\" style=\"stroke:white;stroke-width:4\"/><line x1=\"380.979\" y1=\"142.0\" x2=\"382.679\" y2=\"140.0\" stroke-linecap=\"round\" style=\"stroke:white;stroke-width:4\"/><line x1=\"382.679\" y1=\"140.0\" x2=\"385.137\" y2=\"138.0\" stroke-linecap=\"round\" style=\"stroke:white;stroke-width:4\"/><line x1=\"385.137\" y1=\"138.0\" x2=\"388.244\" y2=\"136.0\" stroke-linecap=\"round\" style=\"stroke:white;stroke-width:4\"/><line x1=\"388.244\" y1=\"136.0\" x2=\"391.865\" y2=\"134.0\" stroke-linecap=\"round\" style=\"stroke:white;stroke-width:4\"/><line x1=\"391.865\" y1=\"134.0\" x2=\"395.842\" y2=\"132.0\" stroke-linecap=\"round\" style=\"stroke:white;stroke-width:4\"/><line x1=\"395.842\" y1=\"132.0\" x2=\"400.0\" y2=\"130.0\" stroke-linecap=\"round\" style=\"stroke:white;stroke-width:4\"/><line x1=\"400.0\" y1=\"130.0\" x2=\"404.158\" y2=\"128.0\" stroke-linecap=\"round\" style=\"stroke:white;stroke-width:4\"/><line x1=\"404.158\" y1=\"128.0\" x2=\"408.135\" y2=\"126.0\" stroke-linecap=\"round\" style=\"stroke:white;stroke-width:4\"/><line x1=\"408.135\" y1=\"126.0\" x2=\"411.756\" y2=\"124.0\" stroke-linecap=\"round\" style=\"stroke:white;stroke-width:4\"/><line x1=\"411.756\" y1=\"124.0\" x2=\"414.863\" y2=\"122.0\" stroke-linecap=\"round\" style=\"stroke:white;stroke-width:4\"/><line x1=\"414.863\" y1=\"122.0\" x2=\"417.321\" y2=\"120.0\" stroke-linecap=\"round\" style=\"stroke:white;stroke-width:4\"/><line x1=\"417.321\" y1=\"120.0\" x2=\"419.021\" y2=\"118.0\" stroke-linecap=\"round\" style=\"stroke:white;stroke-width:4\"/><line x1=\"419.021\" y1=\"118.0\" x2=\"419.89\" y2=\"116.0\" stroke-linecap=\"round\" style=\"stroke:white;stroke-width:4\"/><line x1=\"419.89\" y1=\"116.0\" x2=\"419.89\" y2=\"114.0\" stroke-linecap=\"round\" style=\"stroke:white;stroke-width:4\"/><line x1=\"419.89\" y1=\"114.0\" x2=\"419.021\" y2=\"112.0\" stroke-linecap=\"round\" style=\"stroke:white;stroke-width:4\"/><line x1=\"419.021\" y1=\"112.0\" x2=\"417.321\" y2=\"110.0\" stroke-linecap=\"round\" style=\"stroke:white;stroke-width:4\"/><line x1=\"417.321\" y1=\"110.0\" x2=\"414.863\" y2=\"108.0\" stroke-linecap=\"round\" style=\"stroke:white;stroke-width:4\"/><line x1=\"414.863\" y1=\"108.0\" x2=\"411.756\" y2=\"106.0\" stroke-linecap=\"round\" style=\"stroke:white;stroke-width:4\"/><line x1=\"411.756\" y1=\"106.0\" x2=\"408.135\" y2=\"104.0\" stroke-linecap=\"round\" style=\"stroke:white;stroke-width:4\"/><line x1=\"408.135\" y1=\"104.0\" x2=\"404.158\" y2=\"102.0\" stroke-linecap=\"round\" style=\"stroke:white;stroke-width:4\"/><line x1=\"404.158\" y1=\"102.0\" x2=\"400.0\" y2=\"100.0\" stroke-linecap=\"round\" style=\"stroke:white;stroke-width:4\"/><line x1=\"400.0\" y1=\"100.0\" x2=\"395.842\" y2=\"98.0\" stroke-linecap=\"round\" style=\"stroke:white;stroke-width:4\"/><line x1=\"395.842\" y1=\"98.0\" x2=\"391.865\" y2=\"96.0\" stroke-linecap=\"round\" style=\"stroke:white;stroke-width:4\"/><line x1=\"391.865\" y1=\"96.0\" x2=\"388.244\" y2=\"94.0\" stroke-linecap=\"round\" style=\"stroke:white;stroke-width:4\"/><line x1=\"388.244\" y1=\"94.0\" x2=\"385.137\" y2=\"92.0\" stroke-linecap=\"round\" style=\"stroke:white;stroke-width:4\"/><line x1=\"385.137\" y1=\"92.0\" x2=\"382.679\" y2=\"90.0\" stroke-linecap=\"round\" style=\"stroke:white;stroke-width:4\"/><line x1=\"382.679\" y1=\"90.0\" x2=\"380.979\" y2=\"88.0\" stroke-linecap=\"round\" style=\"stroke:white;stroke-width:4\"/><line x1=\"380.979\" y1=\"88.0\" x2=\"380.11\" y2=\"86.0\" stroke-linecap=\"round\" style=\"stroke:white;stroke-width:4\"/><line x1=\"380.11\" y1=\"86.0\" x2=\"380.11\" y2=\"84.0\" stroke-linecap=\"round\" style=\"stroke:white;stroke-width:4\"/><line x1=\"380.11\" y1=\"84.0\" x2=\"380.979\" y2=\"82.0\" stroke-linecap=\"round\" style=\"stroke:white;stroke-width:4\"/><line x1=\"380.979\" y1=\"82.0\" x2=\"382.679\" y2=\"80.0\" stroke-linecap=\"round\" style=\"stroke:white;stroke-width:4\"/><line x1=\"382.679\" y1=\"80.0\" x2=\"385.137\" y2=\"78.0\" stroke-linecap=\"round\" style=\"stroke:white;stroke-width:4\"/><line x1=\"385.137\" y1=\"78.0\" x2=\"388.244\" y2=\"76.0\" stroke-linecap=\"round\" style=\"stroke:white;stroke-width:4\"/><line x1=\"388.244\" y1=\"76.0\" x2=\"391.865\" y2=\"74.0\" stroke-linecap=\"round\" style=\"stroke:white;stroke-width:4\"/><line x1=\"391.865\" y1=\"74.0\" x2=\"395.842\" y2=\"72.0\" stroke-linecap=\"round\" style=\"stroke:white;stroke-width:4\"/><line x1=\"395.842\" y1=\"72.0\" x2=\"400.0\" y2=\"70.0\" stroke-linecap=\"round\" style=\"stroke:white;stroke-width:4\"/><line x1=\"400.0\" y1=\"70.0\" x2=\"404.158\" y2=\"68.0\" stroke-linecap=\"round\" style=\"stroke:white;stroke-width:4\"/><line x1=\"404.158\" y1=\"68.0\" x2=\"408.135\" y2=\"66.0\" stroke-linecap=\"round\" style=\"stroke:white;stroke-width:4\"/><line x1=\"408.135\" y1=\"66.0\" x2=\"411.756\" y2=\"64.0\" stroke-linecap=\"round\" style=\"stroke:white;stroke-width:4\"/><line x1=\"411.756\" y1=\"64.0\" x2=\"414.863\" y2=\"62.0\" stroke-linecap=\"round\" style=\"stroke:white;stroke-width:4\"/><line x1=\"414.863\" y1=\"62.0\" x2=\"417.321\" y2=\"60.0\" stroke-linecap=\"round\" style=\"stroke:white;stroke-width:4\"/><line x1=\"417.321\" y1=\"60.0\" x2=\"419.021\" y2=\"58.0\" stroke-linecap=\"round\" style=\"stroke:white;stroke-width:4\"/><line x1=\"419.021\" y1=\"58.0\" x2=\"419.89\" y2=\"56.0\" stroke-linecap=\"round\" style=\"stroke:white;stroke-width:4\"/><line x1=\"419.89\" y1=\"56.0\" x2=\"419.89\" y2=\"54.0\" stroke-linecap=\"round\" style=\"stroke:white;stroke-width:4\"/><line x1=\"419.89\" y1=\"54.0\" x2=\"419.021\" y2=\"52.0\" stroke-linecap=\"round\" style=\"stroke:white;stroke-width:4\"/><line x1=\"419.021\" y1=\"52.0\" x2=\"419.021\" y2=\"42.0\" stroke-linecap=\"round\" style=\"stroke:white;stroke-width:4\"/><line x1=\"419.021\" y1=\"42.0\" x2=\"419.021\" y2=\"32.0\" stroke-linecap=\"round\" style=\"stroke:white;stroke-width:4\"/>\n",
       "        <g visibility=visible transform=\"rotate(360,419.021,32.0) translate(401.021, 14.0)\">\n",
       "<path style=\" stroke:none;fill-rule:evenodd;fill:white;fill-opacity:1;\" d=\"M 18.214844 0.632812 C 16.109375 1.800781 15.011719 4.074219 15.074219 7.132812 L 15.085938 7.652344 L 14.785156 7.496094 C 13.476562 6.824219 11.957031 6.671875 10.40625 7.066406 C 8.46875 7.550781 6.515625 9.15625 4.394531 11.992188 C 3.0625 13.777344 2.679688 14.636719 3.042969 15.027344 L 3.15625 15.152344 L 3.519531 15.152344 C 4.238281 15.152344 4.828125 14.886719 8.1875 13.039062 C 9.386719 12.378906 10.371094 11.839844 10.378906 11.839844 C 10.386719 11.839844 10.355469 11.929688 10.304688 12.035156 C 9.832031 13.09375 9.257812 14.820312 8.96875 16.078125 C 7.914062 20.652344 8.617188 24.53125 11.070312 27.660156 C 11.351562 28.015625 11.363281 27.914062 10.972656 28.382812 C 8.925781 30.84375 7.945312 33.28125 8.238281 35.1875 C 8.289062 35.527344 8.28125 35.523438 8.917969 35.523438 C 10.941406 35.523438 13.074219 34.207031 15.136719 31.6875 C 15.359375 31.417969 15.328125 31.425781 15.5625 31.574219 C 16.292969 32.042969 18.023438 32.964844 18.175781 32.964844 C 18.335938 32.964844 19.941406 32.210938 20.828125 31.71875 C 20.996094 31.625 21.136719 31.554688 21.136719 31.558594 C 21.203125 31.664062 21.898438 32.414062 22.222656 32.730469 C 23.835938 34.300781 25.5625 35.132812 27.582031 35.300781 C 27.90625 35.328125 27.9375 35.308594 28.007812 34.984375 C 28.382812 33.242188 27.625 30.925781 25.863281 28.425781 L 25.542969 27.96875 L 25.699219 27.785156 C 28.945312 23.960938 29.132812 18.699219 26.257812 11.96875 L 26.207031 11.84375 L 27.945312 12.703125 C 31.53125 14.476562 32.316406 14.800781 33.03125 14.800781 C 33.976562 14.800781 33.78125 13.9375 32.472656 12.292969 C 28.519531 7.355469 25.394531 5.925781 21.921875 7.472656 L 21.558594 7.636719 L 21.578125 7.542969 C 21.699219 6.992188 21.761719 5.742188 21.699219 5.164062 C 21.496094 3.296875 20.664062 1.964844 19.003906 0.855469 C 18.480469 0.503906 18.457031 0.5 18.214844 0.632812\"/>\n",
       "</g>\n",
       "      </svg>\n",
       "    "
      ],
      "text/plain": [
       "<IPython.core.display.HTML object>"
      ]
     },
     "metadata": {},
     "output_type": "display_data"
    }
   ],
   "source": [
    "from MyTurtle import *\n",
    "initializeTurtle(10)\n",
    "\n",
    "swim(200, 60, 20)"
   ]
  },
  {
   "attachments": {},
   "cell_type": "markdown",
   "metadata": {},
   "source": [
    "2. 比如画圆"
   ]
  },
  {
   "cell_type": "code",
   "execution_count": 33,
   "metadata": {},
   "outputs": [
    {
     "data": {
      "text/html": [
       "\n",
       "      <svg width=\"800\" height=\"500\">\n",
       "        <rect width=\"100%\" height=\"100%\" fill=\"black\"/>\n",
       "        <line x1=\"400\" y1=\"250\" x2=\"387.491\" y2=\"249.213\" stroke-linecap=\"round\" style=\"stroke:white;stroke-width:4\"/><line x1=\"387.491\" y1=\"249.213\" x2=\"375.18\" y2=\"246.864\" stroke-linecap=\"round\" style=\"stroke:white;stroke-width:4\"/><line x1=\"375.18\" y1=\"246.864\" x2=\"363.26\" y2=\"242.991\" stroke-linecap=\"round\" style=\"stroke:white;stroke-width:4\"/><line x1=\"363.26\" y1=\"242.991\" x2=\"351.92\" y2=\"237.655\" stroke-linecap=\"round\" style=\"stroke:white;stroke-width:4\"/><line x1=\"351.92\" y1=\"237.655\" x2=\"341.338\" y2=\"230.939\" stroke-linecap=\"round\" style=\"stroke:white;stroke-width:4\"/><line x1=\"341.338\" y1=\"230.939\" x2=\"331.681\" y2=\"222.95\" stroke-linecap=\"round\" style=\"stroke:white;stroke-width:4\"/><line x1=\"331.681\" y1=\"222.95\" x2=\"323.101\" y2=\"213.814\" stroke-linecap=\"round\" style=\"stroke:white;stroke-width:4\"/><line x1=\"323.101\" y1=\"213.814\" x2=\"315.734\" y2=\"203.674\" stroke-linecap=\"round\" style=\"stroke:white;stroke-width:4\"/><line x1=\"315.734\" y1=\"203.674\" x2=\"309.696\" y2=\"192.691\" stroke-linecap=\"round\" style=\"stroke:white;stroke-width:4\"/><line x1=\"309.696\" y1=\"192.691\" x2=\"305.082\" y2=\"181.038\" stroke-linecap=\"round\" style=\"stroke:white;stroke-width:4\"/><line x1=\"305.082\" y1=\"181.038\" x2=\"301.965\" y2=\"168.898\" stroke-linecap=\"round\" style=\"stroke:white;stroke-width:4\"/><line x1=\"301.965\" y1=\"168.898\" x2=\"300.394\" y2=\"156.464\" stroke-linecap=\"round\" style=\"stroke:white;stroke-width:4\"/><line x1=\"300.394\" y1=\"156.464\" x2=\"300.394\" y2=\"143.931\" stroke-linecap=\"round\" style=\"stroke:white;stroke-width:4\"/><line x1=\"300.394\" y1=\"143.931\" x2=\"301.965\" y2=\"131.497\" stroke-linecap=\"round\" style=\"stroke:white;stroke-width:4\"/><line x1=\"301.965\" y1=\"131.497\" x2=\"305.082\" y2=\"119.357\" stroke-linecap=\"round\" style=\"stroke:white;stroke-width:4\"/><line x1=\"305.082\" y1=\"119.357\" x2=\"309.696\" y2=\"107.704\" stroke-linecap=\"round\" style=\"stroke:white;stroke-width:4\"/><line x1=\"309.696\" y1=\"107.704\" x2=\"315.734\" y2=\"96.721\" stroke-linecap=\"round\" style=\"stroke:white;stroke-width:4\"/><line x1=\"315.734\" y1=\"96.721\" x2=\"323.101\" y2=\"86.581\" stroke-linecap=\"round\" style=\"stroke:white;stroke-width:4\"/><line x1=\"323.101\" y1=\"86.581\" x2=\"331.681\" y2=\"77.445\" stroke-linecap=\"round\" style=\"stroke:white;stroke-width:4\"/><line x1=\"331.681\" y1=\"77.445\" x2=\"341.338\" y2=\"69.456\" stroke-linecap=\"round\" style=\"stroke:white;stroke-width:4\"/><line x1=\"341.338\" y1=\"69.456\" x2=\"351.92\" y2=\"62.74\" stroke-linecap=\"round\" style=\"stroke:white;stroke-width:4\"/><line x1=\"351.92\" y1=\"62.74\" x2=\"363.26\" y2=\"57.404\" stroke-linecap=\"round\" style=\"stroke:white;stroke-width:4\"/><line x1=\"363.26\" y1=\"57.404\" x2=\"375.18\" y2=\"53.531\" stroke-linecap=\"round\" style=\"stroke:white;stroke-width:4\"/><line x1=\"375.18\" y1=\"53.531\" x2=\"387.491\" y2=\"51.182\" stroke-linecap=\"round\" style=\"stroke:white;stroke-width:4\"/><line x1=\"387.491\" y1=\"51.182\" x2=\"400.0\" y2=\"50.395\" stroke-linecap=\"round\" style=\"stroke:white;stroke-width:4\"/><line x1=\"400.0\" y1=\"50.395\" x2=\"412.509\" y2=\"51.182\" stroke-linecap=\"round\" style=\"stroke:white;stroke-width:4\"/><line x1=\"412.509\" y1=\"51.182\" x2=\"424.82\" y2=\"53.531\" stroke-linecap=\"round\" style=\"stroke:white;stroke-width:4\"/><line x1=\"424.82\" y1=\"53.531\" x2=\"436.74\" y2=\"57.404\" stroke-linecap=\"round\" style=\"stroke:white;stroke-width:4\"/><line x1=\"436.74\" y1=\"57.404\" x2=\"448.08\" y2=\"62.74\" stroke-linecap=\"round\" style=\"stroke:white;stroke-width:4\"/><line x1=\"448.08\" y1=\"62.74\" x2=\"458.662\" y2=\"69.456\" stroke-linecap=\"round\" style=\"stroke:white;stroke-width:4\"/><line x1=\"458.662\" y1=\"69.456\" x2=\"468.319\" y2=\"77.445\" stroke-linecap=\"round\" style=\"stroke:white;stroke-width:4\"/><line x1=\"468.319\" y1=\"77.445\" x2=\"476.899\" y2=\"86.581\" stroke-linecap=\"round\" style=\"stroke:white;stroke-width:4\"/><line x1=\"476.899\" y1=\"86.581\" x2=\"484.266\" y2=\"96.721\" stroke-linecap=\"round\" style=\"stroke:white;stroke-width:4\"/><line x1=\"484.266\" y1=\"96.721\" x2=\"490.304\" y2=\"107.704\" stroke-linecap=\"round\" style=\"stroke:white;stroke-width:4\"/><line x1=\"490.304\" y1=\"107.704\" x2=\"494.918\" y2=\"119.357\" stroke-linecap=\"round\" style=\"stroke:white;stroke-width:4\"/><line x1=\"494.918\" y1=\"119.357\" x2=\"498.035\" y2=\"131.497\" stroke-linecap=\"round\" style=\"stroke:white;stroke-width:4\"/><line x1=\"498.035\" y1=\"131.497\" x2=\"499.606\" y2=\"143.931\" stroke-linecap=\"round\" style=\"stroke:white;stroke-width:4\"/><line x1=\"499.606\" y1=\"143.931\" x2=\"499.606\" y2=\"156.464\" stroke-linecap=\"round\" style=\"stroke:white;stroke-width:4\"/><line x1=\"499.606\" y1=\"156.464\" x2=\"498.035\" y2=\"168.898\" stroke-linecap=\"round\" style=\"stroke:white;stroke-width:4\"/><line x1=\"498.035\" y1=\"168.898\" x2=\"494.918\" y2=\"181.038\" stroke-linecap=\"round\" style=\"stroke:white;stroke-width:4\"/><line x1=\"494.918\" y1=\"181.038\" x2=\"490.304\" y2=\"192.691\" stroke-linecap=\"round\" style=\"stroke:white;stroke-width:4\"/><line x1=\"490.304\" y1=\"192.691\" x2=\"484.266\" y2=\"203.674\" stroke-linecap=\"round\" style=\"stroke:white;stroke-width:4\"/><line x1=\"484.266\" y1=\"203.674\" x2=\"476.899\" y2=\"213.814\" stroke-linecap=\"round\" style=\"stroke:white;stroke-width:4\"/><line x1=\"476.899\" y1=\"213.814\" x2=\"468.319\" y2=\"222.95\" stroke-linecap=\"round\" style=\"stroke:white;stroke-width:4\"/><line x1=\"468.319\" y1=\"222.95\" x2=\"458.662\" y2=\"230.939\" stroke-linecap=\"round\" style=\"stroke:white;stroke-width:4\"/><line x1=\"458.662\" y1=\"230.939\" x2=\"448.08\" y2=\"237.655\" stroke-linecap=\"round\" style=\"stroke:white;stroke-width:4\"/><line x1=\"448.08\" y1=\"237.655\" x2=\"436.74\" y2=\"242.991\" stroke-linecap=\"round\" style=\"stroke:white;stroke-width:4\"/><line x1=\"436.74\" y1=\"242.991\" x2=\"424.82\" y2=\"246.864\" stroke-linecap=\"round\" style=\"stroke:white;stroke-width:4\"/><line x1=\"424.82\" y1=\"246.864\" x2=\"412.509\" y2=\"249.213\" stroke-linecap=\"round\" style=\"stroke:white;stroke-width:4\"/><line x1=\"412.509\" y1=\"249.213\" x2=\"400.0\" y2=\"250.0\" stroke-linecap=\"round\" style=\"stroke:white;stroke-width:4\"/>\n",
       "        <g visibility=visible transform=\"rotate(360,400.0,250.0) translate(382.0, 232.0)\">\n",
       "<path style=\" stroke:none;fill-rule:evenodd;fill:white;fill-opacity:1;\" d=\"M 18.214844 0.632812 C 16.109375 1.800781 15.011719 4.074219 15.074219 7.132812 L 15.085938 7.652344 L 14.785156 7.496094 C 13.476562 6.824219 11.957031 6.671875 10.40625 7.066406 C 8.46875 7.550781 6.515625 9.15625 4.394531 11.992188 C 3.0625 13.777344 2.679688 14.636719 3.042969 15.027344 L 3.15625 15.152344 L 3.519531 15.152344 C 4.238281 15.152344 4.828125 14.886719 8.1875 13.039062 C 9.386719 12.378906 10.371094 11.839844 10.378906 11.839844 C 10.386719 11.839844 10.355469 11.929688 10.304688 12.035156 C 9.832031 13.09375 9.257812 14.820312 8.96875 16.078125 C 7.914062 20.652344 8.617188 24.53125 11.070312 27.660156 C 11.351562 28.015625 11.363281 27.914062 10.972656 28.382812 C 8.925781 30.84375 7.945312 33.28125 8.238281 35.1875 C 8.289062 35.527344 8.28125 35.523438 8.917969 35.523438 C 10.941406 35.523438 13.074219 34.207031 15.136719 31.6875 C 15.359375 31.417969 15.328125 31.425781 15.5625 31.574219 C 16.292969 32.042969 18.023438 32.964844 18.175781 32.964844 C 18.335938 32.964844 19.941406 32.210938 20.828125 31.71875 C 20.996094 31.625 21.136719 31.554688 21.136719 31.558594 C 21.203125 31.664062 21.898438 32.414062 22.222656 32.730469 C 23.835938 34.300781 25.5625 35.132812 27.582031 35.300781 C 27.90625 35.328125 27.9375 35.308594 28.007812 34.984375 C 28.382812 33.242188 27.625 30.925781 25.863281 28.425781 L 25.542969 27.96875 L 25.699219 27.785156 C 28.945312 23.960938 29.132812 18.699219 26.257812 11.96875 L 26.207031 11.84375 L 27.945312 12.703125 C 31.53125 14.476562 32.316406 14.800781 33.03125 14.800781 C 33.976562 14.800781 33.78125 13.9375 32.472656 12.292969 C 28.519531 7.355469 25.394531 5.925781 21.921875 7.472656 L 21.558594 7.636719 L 21.578125 7.542969 C 21.699219 6.992188 21.761719 5.742188 21.699219 5.164062 C 21.496094 3.296875 20.664062 1.964844 19.003906 0.855469 C 18.480469 0.503906 18.457031 0.5 18.214844 0.632812\"/>\n",
       "</g>\n",
       "      </svg>\n",
       "    "
      ],
      "text/plain": [
       "<IPython.core.display.HTML object>"
      ]
     },
     "metadata": {},
     "output_type": "display_data"
    }
   ],
   "source": [
    "from MyTurtle import *\n",
    "initializeTurtle(10)\n",
    "\n",
    "circle(100)"
   ]
  },
  {
   "attachments": {},
   "cell_type": "markdown",
   "metadata": {},
   "source": [
    "3. 比如捕获按键动作"
   ]
  },
  {
   "cell_type": "code",
   "execution_count": 37,
   "metadata": {},
   "outputs": [
    {
     "data": {
      "text/html": [
       "\n",
       "      <svg width=\"800\" height=\"500\">\n",
       "        <rect width=\"100%\" height=\"100%\" fill=\"black\"/>\n",
       "        <line x1=\"400\" y1=\"250\" x2=\"400.0\" y2=\"240.0\" stroke-linecap=\"round\" style=\"stroke:white;stroke-width:4\"/><line x1=\"400.0\" y1=\"240.0\" x2=\"400.0\" y2=\"230.0\" stroke-linecap=\"round\" style=\"stroke:white;stroke-width:4\"/><line x1=\"400.0\" y1=\"230.0\" x2=\"400.0\" y2=\"220.0\" stroke-linecap=\"round\" style=\"stroke:white;stroke-width:4\"/><line x1=\"400.0\" y1=\"220.0\" x2=\"400.0\" y2=\"210.0\" stroke-linecap=\"round\" style=\"stroke:white;stroke-width:4\"/><line x1=\"400.0\" y1=\"210.0\" x2=\"400.0\" y2=\"200.0\" stroke-linecap=\"round\" style=\"stroke:white;stroke-width:4\"/><line x1=\"400.0\" y1=\"200.0\" x2=\"400.0\" y2=\"190.0\" stroke-linecap=\"round\" style=\"stroke:white;stroke-width:4\"/><line x1=\"400.0\" y1=\"190.0\" x2=\"400.0\" y2=\"180.0\" stroke-linecap=\"round\" style=\"stroke:white;stroke-width:4\"/><line x1=\"400.0\" y1=\"180.0\" x2=\"400.0\" y2=\"170.0\" stroke-linecap=\"round\" style=\"stroke:white;stroke-width:4\"/><line x1=\"400.0\" y1=\"170.0\" x2=\"400.0\" y2=\"160.0\" stroke-linecap=\"round\" style=\"stroke:white;stroke-width:4\"/><line x1=\"400.0\" y1=\"160.0\" x2=\"395.0\" y2=\"151.34\" stroke-linecap=\"round\" style=\"stroke:white;stroke-width:4\"/><line x1=\"395.0\" y1=\"151.34\" x2=\"390.0\" y2=\"142.68\" stroke-linecap=\"round\" style=\"stroke:white;stroke-width:4\"/><line x1=\"390.0\" y1=\"142.68\" x2=\"385.0\" y2=\"134.02\" stroke-linecap=\"round\" style=\"stroke:white;stroke-width:4\"/><line x1=\"385.0\" y1=\"134.02\" x2=\"380.0\" y2=\"125.36\" stroke-linecap=\"round\" style=\"stroke:white;stroke-width:4\"/>\n",
       "        <g visibility=visible transform=\"rotate(330,380.0,125.36) translate(362.0, 107.36)\">\n",
       "<path style=\" stroke:none;fill-rule:evenodd;fill:white;fill-opacity:1;\" d=\"M 18.214844 0.632812 C 16.109375 1.800781 15.011719 4.074219 15.074219 7.132812 L 15.085938 7.652344 L 14.785156 7.496094 C 13.476562 6.824219 11.957031 6.671875 10.40625 7.066406 C 8.46875 7.550781 6.515625 9.15625 4.394531 11.992188 C 3.0625 13.777344 2.679688 14.636719 3.042969 15.027344 L 3.15625 15.152344 L 3.519531 15.152344 C 4.238281 15.152344 4.828125 14.886719 8.1875 13.039062 C 9.386719 12.378906 10.371094 11.839844 10.378906 11.839844 C 10.386719 11.839844 10.355469 11.929688 10.304688 12.035156 C 9.832031 13.09375 9.257812 14.820312 8.96875 16.078125 C 7.914062 20.652344 8.617188 24.53125 11.070312 27.660156 C 11.351562 28.015625 11.363281 27.914062 10.972656 28.382812 C 8.925781 30.84375 7.945312 33.28125 8.238281 35.1875 C 8.289062 35.527344 8.28125 35.523438 8.917969 35.523438 C 10.941406 35.523438 13.074219 34.207031 15.136719 31.6875 C 15.359375 31.417969 15.328125 31.425781 15.5625 31.574219 C 16.292969 32.042969 18.023438 32.964844 18.175781 32.964844 C 18.335938 32.964844 19.941406 32.210938 20.828125 31.71875 C 20.996094 31.625 21.136719 31.554688 21.136719 31.558594 C 21.203125 31.664062 21.898438 32.414062 22.222656 32.730469 C 23.835938 34.300781 25.5625 35.132812 27.582031 35.300781 C 27.90625 35.328125 27.9375 35.308594 28.007812 34.984375 C 28.382812 33.242188 27.625 30.925781 25.863281 28.425781 L 25.542969 27.96875 L 25.699219 27.785156 C 28.945312 23.960938 29.132812 18.699219 26.257812 11.96875 L 26.207031 11.84375 L 27.945312 12.703125 C 31.53125 14.476562 32.316406 14.800781 33.03125 14.800781 C 33.976562 14.800781 33.78125 13.9375 32.472656 12.292969 C 28.519531 7.355469 25.394531 5.925781 21.921875 7.472656 L 21.558594 7.636719 L 21.578125 7.542969 C 21.699219 6.992188 21.761719 5.742188 21.699219 5.164062 C 21.496094 3.296875 20.664062 1.964844 19.003906 0.855469 C 18.480469 0.503906 18.457031 0.5 18.214844 0.632812\"/>\n",
       "</g>\n",
       "      </svg>\n",
       "    "
      ],
      "text/plain": [
       "<IPython.core.display.HTML object>"
      ]
     },
     "metadata": {},
     "output_type": "display_data"
    },
    {
     "data": {
      "application/vnd.jupyter.widget-view+json": {
       "model_id": "46cd0c1e640c4cdfbc37a57a5fb045a3",
       "version_major": 2,
       "version_minor": 0
      },
      "text/plain": [
       "VBox(children=(HBox(children=(Label(value='', layout=Layout(height='50px', width='60px')), Button(description=…"
      ]
     },
     "metadata": {},
     "output_type": "display_data"
    }
   ],
   "source": [
    "from MyTurtle import *\n",
    "\n",
    "initializeTurtle(10)\n",
    "create_controller()\n"
   ]
  }
 ],
 "metadata": {
  "kernelspec": {
   "display_name": "base",
   "language": "python",
   "name": "python3"
  },
  "language_info": {
   "codemirror_mode": {
    "name": "ipython",
    "version": 3
   },
   "file_extension": ".py",
   "mimetype": "text/x-python",
   "name": "python",
   "nbconvert_exporter": "python",
   "pygments_lexer": "ipython3",
   "version": "3.10.10"
  },
  "orig_nbformat": 4
 },
 "nbformat": 4,
 "nbformat_minor": 2
}
