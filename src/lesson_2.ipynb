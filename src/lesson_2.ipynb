{
 "cells": [
  {
   "attachments": {},
   "cell_type": "markdown",
   "id": "ac50e3a4-97ce-4ecf-ae23-b7b339f60a45",
   "metadata": {},
   "source": [
    "# 变量、常量、循环、条件判断和函数"
   ]
  },
  {
   "attachments": {},
   "cell_type": "markdown",
   "id": "080e2e66-a227-45ac-a958-9e0711fef279",
   "metadata": {
    "tags": []
   },
   "source": [
    "1. 行走的海龟"
   ]
  },
  {
   "cell_type": "code",
   "execution_count": 4,
   "id": "c3d4ef4c-181e-4ede-a07d-6de9656c7dcd",
   "metadata": {
    "tags": []
   },
   "outputs": [
    {
     "data": {
      "text/html": [
       "\n",
       "      <svg width=\"800\" height=\"500\">\n",
       "        <rect width=\"100%\" height=\"100%\" fill=\"black\"/>\n",
       "        <line x1=\"400\" y1=\"250\" x2=\"400.0\" y2=\"240.0\" stroke-linecap=\"round\" style=\"stroke:white;stroke-width:4\"/><line x1=\"400.0\" y1=\"240.0\" x2=\"400.0\" y2=\"230.0\" stroke-linecap=\"round\" style=\"stroke:white;stroke-width:4\"/><line x1=\"400.0\" y1=\"230.0\" x2=\"400.0\" y2=\"220.0\" stroke-linecap=\"round\" style=\"stroke:white;stroke-width:4\"/><line x1=\"400.0\" y1=\"220.0\" x2=\"400.0\" y2=\"210.0\" stroke-linecap=\"round\" style=\"stroke:white;stroke-width:4\"/><line x1=\"400.0\" y1=\"210.0\" x2=\"400.0\" y2=\"200.0\" stroke-linecap=\"round\" style=\"stroke:white;stroke-width:4\"/><line x1=\"400.0\" y1=\"200.0\" x2=\"400.0\" y2=\"190.0\" stroke-linecap=\"round\" style=\"stroke:white;stroke-width:4\"/><line x1=\"400.0\" y1=\"190.0\" x2=\"400.0\" y2=\"180.0\" stroke-linecap=\"round\" style=\"stroke:white;stroke-width:4\"/><line x1=\"400.0\" y1=\"180.0\" x2=\"400.0\" y2=\"170.0\" stroke-linecap=\"round\" style=\"stroke:white;stroke-width:4\"/><line x1=\"400.0\" y1=\"170.0\" x2=\"400.0\" y2=\"160.0\" stroke-linecap=\"round\" style=\"stroke:white;stroke-width:4\"/><line x1=\"400.0\" y1=\"160.0\" x2=\"400.0\" y2=\"150.0\" stroke-linecap=\"round\" style=\"stroke:white;stroke-width:4\"/><line x1=\"400.0\" y1=\"150.0\" x2=\"400.0\" y2=\"140.0\" stroke-linecap=\"round\" style=\"stroke:white;stroke-width:4\"/><line x1=\"400.0\" y1=\"140.0\" x2=\"400.0\" y2=\"130.0\" stroke-linecap=\"round\" style=\"stroke:white;stroke-width:4\"/><line x1=\"400.0\" y1=\"130.0\" x2=\"400.0\" y2=\"120.0\" stroke-linecap=\"round\" style=\"stroke:white;stroke-width:4\"/><line x1=\"400.0\" y1=\"120.0\" x2=\"400.0\" y2=\"110.0\" stroke-linecap=\"round\" style=\"stroke:white;stroke-width:4\"/><line x1=\"400.0\" y1=\"110.0\" x2=\"400.0\" y2=\"100.0\" stroke-linecap=\"round\" style=\"stroke:white;stroke-width:4\"/><line x1=\"400.0\" y1=\"100.0\" x2=\"400.0\" y2=\"90.0\" stroke-linecap=\"round\" style=\"stroke:white;stroke-width:4\"/><line x1=\"400.0\" y1=\"90.0\" x2=\"400.0\" y2=\"80.0\" stroke-linecap=\"round\" style=\"stroke:white;stroke-width:4\"/><line x1=\"400.0\" y1=\"80.0\" x2=\"400.0\" y2=\"70.0\" stroke-linecap=\"round\" style=\"stroke:white;stroke-width:4\"/><line x1=\"400.0\" y1=\"70.0\" x2=\"400.0\" y2=\"60.0\" stroke-linecap=\"round\" style=\"stroke:white;stroke-width:4\"/><line x1=\"400.0\" y1=\"60.0\" x2=\"400.0\" y2=\"50.0\" stroke-linecap=\"round\" style=\"stroke:white;stroke-width:4\"/>\n",
       "        <g visibility=visible transform=\"rotate(360,400.0,50.0) translate(382.0, 32.0)\">\n",
       "<path style=\" stroke:none;fill-rule:evenodd;fill:white;fill-opacity:1;\" d=\"M 18.214844 0.632812 C 16.109375 1.800781 15.011719 4.074219 15.074219 7.132812 L 15.085938 7.652344 L 14.785156 7.496094 C 13.476562 6.824219 11.957031 6.671875 10.40625 7.066406 C 8.46875 7.550781 6.515625 9.15625 4.394531 11.992188 C 3.0625 13.777344 2.679688 14.636719 3.042969 15.027344 L 3.15625 15.152344 L 3.519531 15.152344 C 4.238281 15.152344 4.828125 14.886719 8.1875 13.039062 C 9.386719 12.378906 10.371094 11.839844 10.378906 11.839844 C 10.386719 11.839844 10.355469 11.929688 10.304688 12.035156 C 9.832031 13.09375 9.257812 14.820312 8.96875 16.078125 C 7.914062 20.652344 8.617188 24.53125 11.070312 27.660156 C 11.351562 28.015625 11.363281 27.914062 10.972656 28.382812 C 8.925781 30.84375 7.945312 33.28125 8.238281 35.1875 C 8.289062 35.527344 8.28125 35.523438 8.917969 35.523438 C 10.941406 35.523438 13.074219 34.207031 15.136719 31.6875 C 15.359375 31.417969 15.328125 31.425781 15.5625 31.574219 C 16.292969 32.042969 18.023438 32.964844 18.175781 32.964844 C 18.335938 32.964844 19.941406 32.210938 20.828125 31.71875 C 20.996094 31.625 21.136719 31.554688 21.136719 31.558594 C 21.203125 31.664062 21.898438 32.414062 22.222656 32.730469 C 23.835938 34.300781 25.5625 35.132812 27.582031 35.300781 C 27.90625 35.328125 27.9375 35.308594 28.007812 34.984375 C 28.382812 33.242188 27.625 30.925781 25.863281 28.425781 L 25.542969 27.96875 L 25.699219 27.785156 C 28.945312 23.960938 29.132812 18.699219 26.257812 11.96875 L 26.207031 11.84375 L 27.945312 12.703125 C 31.53125 14.476562 32.316406 14.800781 33.03125 14.800781 C 33.976562 14.800781 33.78125 13.9375 32.472656 12.292969 C 28.519531 7.355469 25.394531 5.925781 21.921875 7.472656 L 21.558594 7.636719 L 21.578125 7.542969 C 21.699219 6.992188 21.761719 5.742188 21.699219 5.164062 C 21.496094 3.296875 20.664062 1.964844 19.003906 0.855469 C 18.480469 0.503906 18.457031 0.5 18.214844 0.632812\"/>\n",
       "</g>\n",
       "      </svg>\n",
       "    "
      ],
      "text/plain": [
       "<IPython.core.display.HTML object>"
      ]
     },
     "metadata": {},
     "output_type": "display_data"
    }
   ],
   "source": [
    "from ColabTurtle.Turtle import *\n",
    "initializeTurtle()\n",
    "\n",
    "def walk(units):\n",
    "    step = 10\n",
    "    for i in range(0, units, step):\n",
    "        forward(step)\n",
    "\n",
    "speed(8)\n",
    "walk(200)"
   ]
  },
  {
   "attachments": {},
   "cell_type": "markdown",
   "id": "8e20bce6-5538-4e0b-bca5-fbc404fe5a69",
   "metadata": {
    "tags": []
   },
   "source": [
    "2. 画圆"
   ]
  },
  {
   "cell_type": "code",
   "execution_count": 4,
   "id": "6211f1e1-2336-4bd2-8bc6-25efa949bf9f",
   "metadata": {
    "tags": []
   },
   "outputs": [
    {
     "data": {
      "text/html": [
       "\n",
       "      <svg width=\"800\" height=\"500\">\n",
       "        <rect width=\"100%\" height=\"100%\" fill=\"grey\"/>\n",
       "        <line x1=\"400\" y1=\"250\" x2=\"400.0\" y2=\"230.0\" stroke-linecap=\"round\" style=\"stroke:rgb(255,0,0);stroke-width:4\"/><line x1=\"400.0\" y1=\"230.0\" x2=\"397.909\" y2=\"210.11\" stroke-linecap=\"round\" style=\"stroke:rgb(248,57,0);stroke-width:4\"/><line x1=\"397.909\" y1=\"210.11\" x2=\"393.751\" y2=\"190.547\" stroke-linecap=\"round\" style=\"stroke:rgb(241,80,0);stroke-width:4\"/><line x1=\"393.751\" y1=\"190.547\" x2=\"387.571\" y2=\"171.526\" stroke-linecap=\"round\" style=\"stroke:rgb(235,98,0);stroke-width:4\"/><line x1=\"387.571\" y1=\"171.526\" x2=\"379.436\" y2=\"153.255\" stroke-linecap=\"round\" style=\"stroke:rgb(228,114,0);stroke-width:4\"/><line x1=\"379.436\" y1=\"153.255\" x2=\"369.436\" y2=\"135.934\" stroke-linecap=\"round\" style=\"stroke:rgb(220,127,0);stroke-width:4\"/><line x1=\"369.436\" y1=\"135.934\" x2=\"357.68\" y2=\"119.754\" stroke-linecap=\"round\" style=\"stroke:rgb(213,139,0);stroke-width:4\"/><line x1=\"357.68\" y1=\"119.754\" x2=\"344.297\" y2=\"104.891\" stroke-linecap=\"round\" style=\"stroke:rgb(205,150,0);stroke-width:4\"/><line x1=\"344.297\" y1=\"104.891\" x2=\"329.434\" y2=\"91.508\" stroke-linecap=\"round\" style=\"stroke:rgb(197,161,0);stroke-width:4\"/><line x1=\"329.434\" y1=\"91.508\" x2=\"313.254\" y2=\"79.752\" stroke-linecap=\"round\" style=\"stroke:rgb(189,171,0);stroke-width:4\"/><line x1=\"313.254\" y1=\"79.752\" x2=\"295.933\" y2=\"69.752\" stroke-linecap=\"round\" style=\"stroke:rgb(180,180,0);stroke-width:4\"/><line x1=\"295.933\" y1=\"69.752\" x2=\"277.662\" y2=\"61.617\" stroke-linecap=\"round\" style=\"stroke:rgb(171,189,0);stroke-width:4\"/><line x1=\"277.662\" y1=\"61.617\" x2=\"258.641\" y2=\"55.437\" stroke-linecap=\"round\" style=\"stroke:rgb(161,197,0);stroke-width:4\"/><line x1=\"258.641\" y1=\"55.437\" x2=\"239.078\" y2=\"51.279\" stroke-linecap=\"round\" style=\"stroke:rgb(150,205,0);stroke-width:4\"/><line x1=\"239.078\" y1=\"51.279\" x2=\"219.188\" y2=\"49.188\" stroke-linecap=\"round\" style=\"stroke:rgb(139,213,0);stroke-width:4\"/><line x1=\"219.188\" y1=\"49.188\" x2=\"199.188\" y2=\"49.188\" stroke-linecap=\"round\" style=\"stroke:rgb(127,220,0);stroke-width:4\"/><line x1=\"199.188\" y1=\"49.188\" x2=\"179.298\" y2=\"51.279\" stroke-linecap=\"round\" style=\"stroke:rgb(114,228,0);stroke-width:4\"/><line x1=\"179.298\" y1=\"51.279\" x2=\"159.735\" y2=\"55.437\" stroke-linecap=\"round\" style=\"stroke:rgb(98,235,0);stroke-width:4\"/><line x1=\"159.735\" y1=\"55.437\" x2=\"140.714\" y2=\"61.617\" stroke-linecap=\"round\" style=\"stroke:rgb(80,241,0);stroke-width:4\"/><line x1=\"140.714\" y1=\"61.617\" x2=\"122.443\" y2=\"69.752\" stroke-linecap=\"round\" style=\"stroke:rgb(57,248,0);stroke-width:4\"/><line x1=\"122.443\" y1=\"69.752\" x2=\"105.122\" y2=\"79.752\" stroke-linecap=\"round\" style=\"stroke:rgb(0,255,0);stroke-width:4\"/><line x1=\"105.122\" y1=\"79.752\" x2=\"88.942\" y2=\"91.508\" stroke-linecap=\"round\" style=\"stroke:rgb(0,248,57);stroke-width:4\"/><line x1=\"88.942\" y1=\"91.508\" x2=\"74.079\" y2=\"104.891\" stroke-linecap=\"round\" style=\"stroke:rgb(0,241,80);stroke-width:4\"/><line x1=\"74.079\" y1=\"104.891\" x2=\"60.696\" y2=\"119.754\" stroke-linecap=\"round\" style=\"stroke:rgb(0,235,98);stroke-width:4\"/><line x1=\"60.696\" y1=\"119.754\" x2=\"48.94\" y2=\"135.934\" stroke-linecap=\"round\" style=\"stroke:rgb(0,228,114);stroke-width:4\"/><line x1=\"48.94\" y1=\"135.934\" x2=\"38.94\" y2=\"153.255\" stroke-linecap=\"round\" style=\"stroke:rgb(0,220,127);stroke-width:4\"/><line x1=\"38.94\" y1=\"153.255\" x2=\"30.805\" y2=\"171.526\" stroke-linecap=\"round\" style=\"stroke:rgb(0,213,139);stroke-width:4\"/><line x1=\"30.805\" y1=\"171.526\" x2=\"24.625\" y2=\"190.547\" stroke-linecap=\"round\" style=\"stroke:rgb(0,205,150);stroke-width:4\"/><line x1=\"24.625\" y1=\"190.547\" x2=\"20.467\" y2=\"210.11\" stroke-linecap=\"round\" style=\"stroke:rgb(0,197,161);stroke-width:4\"/><line x1=\"20.467\" y1=\"210.11\" x2=\"18.376\" y2=\"230.0\" stroke-linecap=\"round\" style=\"stroke:rgb(0,189,171);stroke-width:4\"/><line x1=\"18.376\" y1=\"230.0\" x2=\"18.376\" y2=\"250.0\" stroke-linecap=\"round\" style=\"stroke:rgb(0,180,180);stroke-width:4\"/><line x1=\"18.376\" y1=\"250.0\" x2=\"20.467\" y2=\"269.89\" stroke-linecap=\"round\" style=\"stroke:rgb(0,171,189);stroke-width:4\"/><line x1=\"20.467\" y1=\"269.89\" x2=\"24.625\" y2=\"289.453\" stroke-linecap=\"round\" style=\"stroke:rgb(0,161,197);stroke-width:4\"/><line x1=\"24.625\" y1=\"289.453\" x2=\"30.805\" y2=\"308.474\" stroke-linecap=\"round\" style=\"stroke:rgb(0,150,205);stroke-width:4\"/><line x1=\"30.805\" y1=\"308.474\" x2=\"38.94\" y2=\"326.745\" stroke-linecap=\"round\" style=\"stroke:rgb(0,139,213);stroke-width:4\"/><line x1=\"38.94\" y1=\"326.745\" x2=\"48.94\" y2=\"344.066\" stroke-linecap=\"round\" style=\"stroke:rgb(0,127,220);stroke-width:4\"/><line x1=\"48.94\" y1=\"344.066\" x2=\"60.696\" y2=\"360.246\" stroke-linecap=\"round\" style=\"stroke:rgb(0,114,228);stroke-width:4\"/><line x1=\"60.696\" y1=\"360.246\" x2=\"74.079\" y2=\"375.109\" stroke-linecap=\"round\" style=\"stroke:rgb(0,98,235);stroke-width:4\"/><line x1=\"74.079\" y1=\"375.109\" x2=\"88.942\" y2=\"388.492\" stroke-linecap=\"round\" style=\"stroke:rgb(0,80,241);stroke-width:4\"/><line x1=\"88.942\" y1=\"388.492\" x2=\"105.122\" y2=\"400.248\" stroke-linecap=\"round\" style=\"stroke:rgb(0,57,248);stroke-width:4\"/><line x1=\"105.122\" y1=\"400.248\" x2=\"122.443\" y2=\"410.248\" stroke-linecap=\"round\" style=\"stroke:rgb(0,0,255);stroke-width:4\"/><line x1=\"122.443\" y1=\"410.248\" x2=\"140.714\" y2=\"418.383\" stroke-linecap=\"round\" style=\"stroke:rgb(57,0,248);stroke-width:4\"/><line x1=\"140.714\" y1=\"418.383\" x2=\"159.735\" y2=\"424.563\" stroke-linecap=\"round\" style=\"stroke:rgb(80,0,241);stroke-width:4\"/><line x1=\"159.735\" y1=\"424.563\" x2=\"179.298\" y2=\"428.721\" stroke-linecap=\"round\" style=\"stroke:rgb(98,0,235);stroke-width:4\"/><line x1=\"179.298\" y1=\"428.721\" x2=\"199.188\" y2=\"430.812\" stroke-linecap=\"round\" style=\"stroke:rgb(114,0,228);stroke-width:4\"/><line x1=\"199.188\" y1=\"430.812\" x2=\"219.188\" y2=\"430.812\" stroke-linecap=\"round\" style=\"stroke:rgb(127,0,220);stroke-width:4\"/><line x1=\"219.188\" y1=\"430.812\" x2=\"239.078\" y2=\"428.721\" stroke-linecap=\"round\" style=\"stroke:rgb(139,0,213);stroke-width:4\"/><line x1=\"239.078\" y1=\"428.721\" x2=\"258.641\" y2=\"424.563\" stroke-linecap=\"round\" style=\"stroke:rgb(150,0,205);stroke-width:4\"/><line x1=\"258.641\" y1=\"424.563\" x2=\"277.662\" y2=\"418.383\" stroke-linecap=\"round\" style=\"stroke:rgb(161,0,197);stroke-width:4\"/><line x1=\"277.662\" y1=\"418.383\" x2=\"295.933\" y2=\"410.248\" stroke-linecap=\"round\" style=\"stroke:rgb(171,0,189);stroke-width:4\"/><line x1=\"295.933\" y1=\"410.248\" x2=\"313.254\" y2=\"400.248\" stroke-linecap=\"round\" style=\"stroke:rgb(180,0,180);stroke-width:4\"/><line x1=\"313.254\" y1=\"400.248\" x2=\"329.434\" y2=\"388.492\" stroke-linecap=\"round\" style=\"stroke:rgb(189,0,171);stroke-width:4\"/><line x1=\"329.434\" y1=\"388.492\" x2=\"344.297\" y2=\"375.109\" stroke-linecap=\"round\" style=\"stroke:rgb(197,0,161);stroke-width:4\"/><line x1=\"344.297\" y1=\"375.109\" x2=\"357.68\" y2=\"360.246\" stroke-linecap=\"round\" style=\"stroke:rgb(205,0,150);stroke-width:4\"/><line x1=\"357.68\" y1=\"360.246\" x2=\"369.436\" y2=\"344.066\" stroke-linecap=\"round\" style=\"stroke:rgb(213,0,139);stroke-width:4\"/><line x1=\"369.436\" y1=\"344.066\" x2=\"379.436\" y2=\"326.745\" stroke-linecap=\"round\" style=\"stroke:rgb(220,0,127);stroke-width:4\"/><line x1=\"379.436\" y1=\"326.745\" x2=\"387.571\" y2=\"308.474\" stroke-linecap=\"round\" style=\"stroke:rgb(228,0,114);stroke-width:4\"/><line x1=\"387.571\" y1=\"308.474\" x2=\"393.751\" y2=\"289.453\" stroke-linecap=\"round\" style=\"stroke:rgb(235,0,98);stroke-width:4\"/><line x1=\"393.751\" y1=\"289.453\" x2=\"397.909\" y2=\"269.89\" stroke-linecap=\"round\" style=\"stroke:rgb(241,0,80);stroke-width:4\"/><line x1=\"397.909\" y1=\"269.89\" x2=\"400.0\" y2=\"250.0\" stroke-linecap=\"round\" style=\"stroke:rgb(248,0,57);stroke-width:4\"/><line x1=\"400.0\" y1=\"250.0\" x2=\"400.0\" y2=\"230.0\" stroke-linecap=\"round\" style=\"stroke:rgb(255,0,0);stroke-width:4\"/><line x1=\"400.0\" y1=\"230.0\" x2=\"402.091\" y2=\"210.11\" stroke-linecap=\"round\" style=\"stroke:rgb(248,0,57);stroke-width:4\"/><line x1=\"402.091\" y1=\"210.11\" x2=\"406.249\" y2=\"190.547\" stroke-linecap=\"round\" style=\"stroke:rgb(241,0,80);stroke-width:4\"/><line x1=\"406.249\" y1=\"190.547\" x2=\"412.429\" y2=\"171.526\" stroke-linecap=\"round\" style=\"stroke:rgb(235,0,98);stroke-width:4\"/><line x1=\"412.429\" y1=\"171.526\" x2=\"420.564\" y2=\"153.255\" stroke-linecap=\"round\" style=\"stroke:rgb(228,0,114);stroke-width:4\"/><line x1=\"420.564\" y1=\"153.255\" x2=\"430.564\" y2=\"135.934\" stroke-linecap=\"round\" style=\"stroke:rgb(220,0,127);stroke-width:4\"/><line x1=\"430.564\" y1=\"135.934\" x2=\"442.32\" y2=\"119.754\" stroke-linecap=\"round\" style=\"stroke:rgb(213,0,139);stroke-width:4\"/><line x1=\"442.32\" y1=\"119.754\" x2=\"455.703\" y2=\"104.891\" stroke-linecap=\"round\" style=\"stroke:rgb(205,0,150);stroke-width:4\"/><line x1=\"455.703\" y1=\"104.891\" x2=\"470.566\" y2=\"91.508\" stroke-linecap=\"round\" style=\"stroke:rgb(197,0,161);stroke-width:4\"/><line x1=\"470.566\" y1=\"91.508\" x2=\"486.746\" y2=\"79.752\" stroke-linecap=\"round\" style=\"stroke:rgb(189,0,171);stroke-width:4\"/><line x1=\"486.746\" y1=\"79.752\" x2=\"504.067\" y2=\"69.752\" stroke-linecap=\"round\" style=\"stroke:rgb(180,0,180);stroke-width:4\"/><line x1=\"504.067\" y1=\"69.752\" x2=\"522.338\" y2=\"61.617\" stroke-linecap=\"round\" style=\"stroke:rgb(171,0,189);stroke-width:4\"/><line x1=\"522.338\" y1=\"61.617\" x2=\"541.359\" y2=\"55.437\" stroke-linecap=\"round\" style=\"stroke:rgb(161,0,197);stroke-width:4\"/><line x1=\"541.359\" y1=\"55.437\" x2=\"560.922\" y2=\"51.279\" stroke-linecap=\"round\" style=\"stroke:rgb(150,0,205);stroke-width:4\"/><line x1=\"560.922\" y1=\"51.279\" x2=\"580.812\" y2=\"49.188\" stroke-linecap=\"round\" style=\"stroke:rgb(139,0,213);stroke-width:4\"/><line x1=\"580.812\" y1=\"49.188\" x2=\"600.812\" y2=\"49.188\" stroke-linecap=\"round\" style=\"stroke:rgb(127,0,220);stroke-width:4\"/><line x1=\"600.812\" y1=\"49.188\" x2=\"620.702\" y2=\"51.279\" stroke-linecap=\"round\" style=\"stroke:rgb(114,0,228);stroke-width:4\"/><line x1=\"620.702\" y1=\"51.279\" x2=\"640.265\" y2=\"55.437\" stroke-linecap=\"round\" style=\"stroke:rgb(98,0,235);stroke-width:4\"/><line x1=\"640.265\" y1=\"55.437\" x2=\"659.286\" y2=\"61.617\" stroke-linecap=\"round\" style=\"stroke:rgb(80,0,241);stroke-width:4\"/><line x1=\"659.286\" y1=\"61.617\" x2=\"677.557\" y2=\"69.752\" stroke-linecap=\"round\" style=\"stroke:rgb(57,0,248);stroke-width:4\"/><line x1=\"677.557\" y1=\"69.752\" x2=\"694.878\" y2=\"79.752\" stroke-linecap=\"round\" style=\"stroke:rgb(0,0,255);stroke-width:4\"/><line x1=\"694.878\" y1=\"79.752\" x2=\"711.058\" y2=\"91.508\" stroke-linecap=\"round\" style=\"stroke:rgb(0,57,248);stroke-width:4\"/><line x1=\"711.058\" y1=\"91.508\" x2=\"725.921\" y2=\"104.891\" stroke-linecap=\"round\" style=\"stroke:rgb(0,80,241);stroke-width:4\"/><line x1=\"725.921\" y1=\"104.891\" x2=\"739.304\" y2=\"119.754\" stroke-linecap=\"round\" style=\"stroke:rgb(0,98,235);stroke-width:4\"/><line x1=\"739.304\" y1=\"119.754\" x2=\"751.06\" y2=\"135.934\" stroke-linecap=\"round\" style=\"stroke:rgb(0,114,228);stroke-width:4\"/><line x1=\"751.06\" y1=\"135.934\" x2=\"761.06\" y2=\"153.255\" stroke-linecap=\"round\" style=\"stroke:rgb(0,127,220);stroke-width:4\"/><line x1=\"761.06\" y1=\"153.255\" x2=\"769.195\" y2=\"171.526\" stroke-linecap=\"round\" style=\"stroke:rgb(0,139,213);stroke-width:4\"/><line x1=\"769.195\" y1=\"171.526\" x2=\"775.375\" y2=\"190.547\" stroke-linecap=\"round\" style=\"stroke:rgb(0,150,205);stroke-width:4\"/><line x1=\"775.375\" y1=\"190.547\" x2=\"779.533\" y2=\"210.11\" stroke-linecap=\"round\" style=\"stroke:rgb(0,161,197);stroke-width:4\"/><line x1=\"779.533\" y1=\"210.11\" x2=\"781.624\" y2=\"230.0\" stroke-linecap=\"round\" style=\"stroke:rgb(0,171,189);stroke-width:4\"/><line x1=\"781.624\" y1=\"230.0\" x2=\"781.624\" y2=\"250.0\" stroke-linecap=\"round\" style=\"stroke:rgb(0,180,180);stroke-width:4\"/><line x1=\"781.624\" y1=\"250.0\" x2=\"779.533\" y2=\"269.89\" stroke-linecap=\"round\" style=\"stroke:rgb(0,189,171);stroke-width:4\"/><line x1=\"779.533\" y1=\"269.89\" x2=\"775.375\" y2=\"289.453\" stroke-linecap=\"round\" style=\"stroke:rgb(0,197,161);stroke-width:4\"/><line x1=\"775.375\" y1=\"289.453\" x2=\"769.195\" y2=\"308.474\" stroke-linecap=\"round\" style=\"stroke:rgb(0,205,150);stroke-width:4\"/><line x1=\"769.195\" y1=\"308.474\" x2=\"761.06\" y2=\"326.745\" stroke-linecap=\"round\" style=\"stroke:rgb(0,213,139);stroke-width:4\"/><line x1=\"761.06\" y1=\"326.745\" x2=\"751.06\" y2=\"344.066\" stroke-linecap=\"round\" style=\"stroke:rgb(0,220,127);stroke-width:4\"/><line x1=\"751.06\" y1=\"344.066\" x2=\"739.304\" y2=\"360.246\" stroke-linecap=\"round\" style=\"stroke:rgb(0,228,114);stroke-width:4\"/><line x1=\"739.304\" y1=\"360.246\" x2=\"725.921\" y2=\"375.109\" stroke-linecap=\"round\" style=\"stroke:rgb(0,235,98);stroke-width:4\"/><line x1=\"725.921\" y1=\"375.109\" x2=\"711.058\" y2=\"388.492\" stroke-linecap=\"round\" style=\"stroke:rgb(0,241,80);stroke-width:4\"/><line x1=\"711.058\" y1=\"388.492\" x2=\"694.878\" y2=\"400.248\" stroke-linecap=\"round\" style=\"stroke:rgb(0,248,57);stroke-width:4\"/><line x1=\"694.878\" y1=\"400.248\" x2=\"677.557\" y2=\"410.248\" stroke-linecap=\"round\" style=\"stroke:rgb(0,255,0);stroke-width:4\"/><line x1=\"677.557\" y1=\"410.248\" x2=\"659.286\" y2=\"418.383\" stroke-linecap=\"round\" style=\"stroke:rgb(57,248,0);stroke-width:4\"/><line x1=\"659.286\" y1=\"418.383\" x2=\"640.265\" y2=\"424.563\" stroke-linecap=\"round\" style=\"stroke:rgb(80,241,0);stroke-width:4\"/><line x1=\"640.265\" y1=\"424.563\" x2=\"620.702\" y2=\"428.721\" stroke-linecap=\"round\" style=\"stroke:rgb(98,235,0);stroke-width:4\"/><line x1=\"620.702\" y1=\"428.721\" x2=\"600.812\" y2=\"430.812\" stroke-linecap=\"round\" style=\"stroke:rgb(114,228,0);stroke-width:4\"/><line x1=\"600.812\" y1=\"430.812\" x2=\"580.812\" y2=\"430.812\" stroke-linecap=\"round\" style=\"stroke:rgb(127,220,0);stroke-width:4\"/><line x1=\"580.812\" y1=\"430.812\" x2=\"560.922\" y2=\"428.721\" stroke-linecap=\"round\" style=\"stroke:rgb(139,213,0);stroke-width:4\"/><line x1=\"560.922\" y1=\"428.721\" x2=\"541.359\" y2=\"424.563\" stroke-linecap=\"round\" style=\"stroke:rgb(150,205,0);stroke-width:4\"/><line x1=\"541.359\" y1=\"424.563\" x2=\"522.338\" y2=\"418.383\" stroke-linecap=\"round\" style=\"stroke:rgb(161,197,0);stroke-width:4\"/><line x1=\"522.338\" y1=\"418.383\" x2=\"504.067\" y2=\"410.248\" stroke-linecap=\"round\" style=\"stroke:rgb(171,189,0);stroke-width:4\"/><line x1=\"504.067\" y1=\"410.248\" x2=\"486.746\" y2=\"400.248\" stroke-linecap=\"round\" style=\"stroke:rgb(180,180,0);stroke-width:4\"/><line x1=\"486.746\" y1=\"400.248\" x2=\"470.566\" y2=\"388.492\" stroke-linecap=\"round\" style=\"stroke:rgb(189,171,0);stroke-width:4\"/><line x1=\"470.566\" y1=\"388.492\" x2=\"455.703\" y2=\"375.109\" stroke-linecap=\"round\" style=\"stroke:rgb(197,161,0);stroke-width:4\"/><line x1=\"455.703\" y1=\"375.109\" x2=\"442.32\" y2=\"360.246\" stroke-linecap=\"round\" style=\"stroke:rgb(205,150,0);stroke-width:4\"/><line x1=\"442.32\" y1=\"360.246\" x2=\"430.564\" y2=\"344.066\" stroke-linecap=\"round\" style=\"stroke:rgb(213,139,0);stroke-width:4\"/><line x1=\"430.564\" y1=\"344.066\" x2=\"420.564\" y2=\"326.745\" stroke-linecap=\"round\" style=\"stroke:rgb(220,127,0);stroke-width:4\"/><line x1=\"420.564\" y1=\"326.745\" x2=\"412.429\" y2=\"308.474\" stroke-linecap=\"round\" style=\"stroke:rgb(228,114,0);stroke-width:4\"/><line x1=\"412.429\" y1=\"308.474\" x2=\"406.249\" y2=\"289.453\" stroke-linecap=\"round\" style=\"stroke:rgb(235,98,0);stroke-width:4\"/><line x1=\"406.249\" y1=\"289.453\" x2=\"402.091\" y2=\"269.89\" stroke-linecap=\"round\" style=\"stroke:rgb(241,80,0);stroke-width:4\"/><line x1=\"402.091\" y1=\"269.89\" x2=\"400.0\" y2=\"250.0\" stroke-linecap=\"round\" style=\"stroke:rgb(248,57,0);stroke-width:4\"/>\n",
       "        <g visibility=visible transform=\"rotate(360,400.0,250.0) translate(382.0, 232.0)\">\n",
       "<path style=\" stroke:none;fill-rule:evenodd;fill:rgb(248,57,0);fill-opacity:1;\" d=\"M 18.214844 0.632812 C 16.109375 1.800781 15.011719 4.074219 15.074219 7.132812 L 15.085938 7.652344 L 14.785156 7.496094 C 13.476562 6.824219 11.957031 6.671875 10.40625 7.066406 C 8.46875 7.550781 6.515625 9.15625 4.394531 11.992188 C 3.0625 13.777344 2.679688 14.636719 3.042969 15.027344 L 3.15625 15.152344 L 3.519531 15.152344 C 4.238281 15.152344 4.828125 14.886719 8.1875 13.039062 C 9.386719 12.378906 10.371094 11.839844 10.378906 11.839844 C 10.386719 11.839844 10.355469 11.929688 10.304688 12.035156 C 9.832031 13.09375 9.257812 14.820312 8.96875 16.078125 C 7.914062 20.652344 8.617188 24.53125 11.070312 27.660156 C 11.351562 28.015625 11.363281 27.914062 10.972656 28.382812 C 8.925781 30.84375 7.945312 33.28125 8.238281 35.1875 C 8.289062 35.527344 8.28125 35.523438 8.917969 35.523438 C 10.941406 35.523438 13.074219 34.207031 15.136719 31.6875 C 15.359375 31.417969 15.328125 31.425781 15.5625 31.574219 C 16.292969 32.042969 18.023438 32.964844 18.175781 32.964844 C 18.335938 32.964844 19.941406 32.210938 20.828125 31.71875 C 20.996094 31.625 21.136719 31.554688 21.136719 31.558594 C 21.203125 31.664062 21.898438 32.414062 22.222656 32.730469 C 23.835938 34.300781 25.5625 35.132812 27.582031 35.300781 C 27.90625 35.328125 27.9375 35.308594 28.007812 34.984375 C 28.382812 33.242188 27.625 30.925781 25.863281 28.425781 L 25.542969 27.96875 L 25.699219 27.785156 C 28.945312 23.960938 29.132812 18.699219 26.257812 11.96875 L 26.207031 11.84375 L 27.945312 12.703125 C 31.53125 14.476562 32.316406 14.800781 33.03125 14.800781 C 33.976562 14.800781 33.78125 13.9375 32.472656 12.292969 C 28.519531 7.355469 25.394531 5.925781 21.921875 7.472656 L 21.558594 7.636719 L 21.578125 7.542969 C 21.699219 6.992188 21.761719 5.742188 21.699219 5.164062 C 21.496094 3.296875 20.664062 1.964844 19.003906 0.855469 C 18.480469 0.503906 18.457031 0.5 18.214844 0.632812\"/>\n",
       "</g>\n",
       "      </svg>\n",
       "    "
      ],
      "text/plain": [
       "<IPython.core.display.HTML object>"
      ]
     },
     "metadata": {},
     "output_type": "display_data"
    }
   ],
   "source": [
    "from math import sqrt\n",
    "from ColabTurtle.Turtle import *\n",
    "initializeTurtle(9)\n",
    "\n",
    "def make_color(hue, light):\n",
    "    if light < 0 or light > 1:\n",
    "        raise \"light < 0 or light > 1\"\n",
    "    r = 0\n",
    "    g = 0\n",
    "    b = 0\n",
    "    l = light * 255\n",
    "    if hue < 0:\n",
    "        raise \"hue < 0\"\n",
    "    elif hue < 1:\n",
    "        h = hue\n",
    "        r = sqrt(1-h)\n",
    "        g = sqrt(h)\n",
    "    elif hue < 2:\n",
    "        h = hue-1\n",
    "        g = sqrt(1-h)\n",
    "        b = sqrt(h)\n",
    "    elif hue <= 3:\n",
    "        h = hue-2\n",
    "        b = sqrt(1-h)\n",
    "        r = sqrt(h)\n",
    "    else:\n",
    "        raise \"hue > 3\"\n",
    "    return (int(l*r), int(l*g), int(l*b))\n",
    "\n",
    "bgcolor('grey')\n",
    "for i in range(0, 60):\n",
    "    color(make_color(i*3/60, 1))\n",
    "    forward(20)\n",
    "    left(6)\n",
    "for i in range(0, 60):\n",
    "    color(make_color((60-i)*3/60, 1))\n",
    "    forward(20)\n",
    "    right(6)\n"
   ]
  }
 ],
 "metadata": {
  "kernelspec": {
   "display_name": "Python 3 (ipykernel)",
   "language": "python",
   "name": "python3"
  },
  "language_info": {
   "codemirror_mode": {
    "name": "ipython",
    "version": 3
   },
   "file_extension": ".py",
   "mimetype": "text/x-python",
   "name": "python",
   "nbconvert_exporter": "python",
   "pygments_lexer": "ipython3",
   "version": "3.10.10"
  }
 },
 "nbformat": 4,
 "nbformat_minor": 5
}
